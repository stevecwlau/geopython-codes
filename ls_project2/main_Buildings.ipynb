{
 "cells": [
  {
   "cell_type": "code",
   "execution_count": 4,
   "metadata": {},
   "outputs": [],
   "source": [
    "import pandas as pd\n",
    "import geopandas as gpd\n",
    "from sqlalchemy import create_engine,text \n",
    "import leafmap"
   ]
  },
  {
   "cell_type": "markdown",
   "metadata": {},
   "source": [
    "# Download data from CSDI Portal"
   ]
  },
  {
   "cell_type": "code",
   "execution_count": 5,
   "metadata": {},
   "outputs": [
    {
     "name": "stdout",
     "output_type": "stream",
     "text": [
      "Downloaded file to C:\\Users\\Steve_Lau\\Desktop\\LS Training\\ls_project1\\downloaded_file.zip\n",
      "Removed old version of Building_Footprint.gdb\n",
      "Extracted Building_Footprint.gdb to C:\\Users\\Steve_Lau\\Desktop\\LS Training\\ls_project1\n",
      "Removed the original downloaded file C:\\Users\\Steve_Lau\\Desktop\\LS Training\\ls_project1\\downloaded_file.zip\n"
     ]
    }
   ],
   "source": [
    "from fgdbDL import download_and_extract_gdb \n",
    "\n",
    "url = \"https://static.csdi.gov.hk/csdi-webpage/download/51d63757e2675874af80eef94afb6a35/fgdb\"\n",
    "\n",
    "storage_path = r\"C:\\Users\\Steve_Lau\\Desktop\\LS Training\\ls_project1\"\n",
    "\n",
    "download_and_extract_gdb(url, storage_path)"
   ]
  },
  {
   "cell_type": "code",
   "execution_count": null,
   "metadata": {},
   "outputs": [],
   "source": [
    "from shpDL import download_and_extract_shp\n",
    "\n",
    "url = 'https://static.csdi.gov.hk/csdi-webpage/download/0e55c533715b5da3ae0ca6e6024e90b4/shp'\n",
    "\n",
    "storage_path = r\"C:\\Users\\Steve_Lau\\Desktop\\LS Training\\ls_project1\"\n",
    "\n",
    "download_and_extract_shp(url, storage_path)"
   ]
  },
  {
   "cell_type": "markdown",
   "metadata": {},
   "source": [
    "# Set up paths and layers + db connection parameters"
   ]
  },
  {
   "cell_type": "code",
   "execution_count": 7,
   "metadata": {},
   "outputs": [],
   "source": [
    "# Define the paths and layer name (comment out either one gdb_path when not in use)\n",
    "#gdb_path = \"/home/steeb/Documents/GIS/20240509/Building_Footprint.gdb\"\n",
    "gdb_path = r\"C:\\Users\\Steve_Lau\\Desktop\\LS Training\\ls_project1\\Building_Footprint.gdb\"\n",
    "\n",
    "#gdb_path = \"/home/steeb/Documents/GIS/BDBIAR.shp\"\n",
    "shp_file = r\"C:\\Users\\Steve_Lau\\Desktop\\LS Training\\ls_project1\\BDBIAR.shp\"\n",
    "\n",
    "# Define the db connection parameters\n",
    "username = \"postgres\"\n",
    "password = \"12345\"\n",
    "host = \"localhost\"\n",
    "dbname = \"Buildings\"\n",
    "port = \"5432\"\n",
    "\n",
    "pg_connection = f\"PG:host={host} port={port} dbname={dbname} user={username} password={password}\"\n",
    "engine = create_engine(f\"postgresql://{username}:{password}@{host}:{port}/{dbname}\")"
   ]
  },
  {
   "cell_type": "markdown",
   "metadata": {},
   "source": [
    "# Import into a PostgreSQL database using ogr2ogr"
   ]
  },
  {
   "cell_type": "code",
   "execution_count": null,
   "metadata": {},
   "outputs": [],
   "source": [
    "# Imports a GDB into a PostgreSQL database using ogr2ogr\n",
    "from gdb2pgsql import transfer_gdb_to_postgis\n",
    "\n",
    "transfer_gdb_to_postgis(gdb_path, pg_connection)"
   ]
  },
  {
   "cell_type": "code",
   "execution_count": 8,
   "metadata": {},
   "outputs": [
    {
     "name": "stdout",
     "output_type": "stream",
     "text": [
      "\n"
     ]
    }
   ],
   "source": [
    "# Imports a SHP into a PostgreSQL database using ogr2ogr\n",
    "from shp2pgsql import import_shapefile_to_postgresql\n",
    "\n",
    "import_shapefile_to_postgresql(shp_file, pg_connection)"
   ]
  },
  {
   "cell_type": "code",
   "execution_count": null,
   "metadata": {},
   "outputs": [],
   "source": [
    "from gdbList import list_layers_with_types\n",
    "\n",
    "list_layers_with_types(gdb_path)"
   ]
  },
  {
   "cell_type": "markdown",
   "metadata": {},
   "source": [
    "# Read data from PostgreSQL database into dataframes"
   ]
  },
  {
   "cell_type": "code",
   "execution_count": 18,
   "metadata": {},
   "outputs": [],
   "source": [
    "table_op = \"OCCUPATION_PERMIT\"\n",
    "table_op_blgstr = \"OP_BUILDING_STRUCTURE\"\n",
    "table_blgstr = \"BUILDING_STRUCTURE\"\n",
    "table_blgcat = \"CT_BUILDING_CATEGORY\"\n",
    "table_bdbiar = \"BDBIAR\"\n",
    "\n",
    "sql_op = text(f\"SELECT * FROM {table_op}\")\n",
    "sql_op_blgstr = text(f\"SELECT * FROM {table_op_blgstr}\")\n",
    "sql_blstr = text(f\"SELECT * FROM {table_blgstr}\")\n",
    "sql_blgcat = text(f\"SELECT * FROM {table_blgcat}\")\n",
    "sql_bdbiar = text(f\"SELECT * FROM {table_bdbiar}\")"
   ]
  },
  {
   "cell_type": "code",
   "execution_count": 20,
   "metadata": {},
   "outputs": [],
   "source": [
    "# Read the tables into DataFrames\n",
    "df_op = pd.read_sql(sql_op, con=engine.connect())\n",
    "df_op_blgstr = pd.read_sql(sql_op_blgstr, con=engine.connect())\n",
    "df_blgcat = pd.read_sql(sql_blgcat, con=engine.connect())\n",
    "\n",
    "# Read the tables with geometry into DataFrames\n",
    "gdf_blgstr = gpd.read_postgis(sql_blstr, con=engine.connect(), geom_col=\"shape\") \n",
    "gdf_bdbiar = gpd.read_postgis(sql_bdbiar, con=engine.connect(), geom_col=\"wkb_geometry\") "
   ]
  },
  {
   "cell_type": "code",
   "execution_count": 21,
   "metadata": {},
   "outputs": [],
   "source": [
    "# Select only the \"opno\" and \"opdate\" columns from df_op\n",
    "df_op_subset = df_op[[\"opno\", \"opdate\"]]\n",
    "\n",
    "df_op_subset.opdate = pd.to_datetime(df_op_subset[\"opdate\"], utc=True)\n",
    "\n",
    "# Merge df_op_blgstr with the subset of df_op on the \"opno\" column\n",
    "df_merge_op_blgstr = pd.merge(df_op_blgstr,\n",
    "                            df_op_subset,\n",
    "                            on=\"opno\",\n",
    "                            how=\"right\")"
   ]
  },
  {
   "cell_type": "code",
   "execution_count": 23,
   "metadata": {},
   "outputs": [],
   "source": [
    "# Select only the \"buildingstructureid\" and \"opdate\" columns from df_merge_op_blgstr\n",
    "df_merge_op_blgstr_subset = df_merge_op_blgstr[[\"buildingstructureid\", \"opdate\"]]\n",
    "\n",
    "# Merge gdf_blgstr with the subset of df_merge_op_blgstr on the \"buildingstructureid\" column\n",
    "gdf_merge_blgstr = pd.merge(gdf_blgstr,\n",
    "                df_merge_op_blgstr_subset,\n",
    "                on=\"buildingstructureid\", how=\"left\")"
   ]
  },
  {
   "cell_type": "code",
   "execution_count": 24,
   "metadata": {},
   "outputs": [],
   "source": [
    "# Select only the \"buildingstructureid\" and \"opdate\" columns from df_merge_op_blgstr\n",
    "df_blgcat_subset = df_blgcat[[\"code\",\n",
    "                              \"description\",\n",
    "                              \"note\"]]\n",
    "\n",
    "df_blgcat_subset = df_blgcat_subset.rename(columns={\"code\": \"category\",\n",
    "                                 \"description\": \"catdesc\",\n",
    "                                 \"note\": \"catnote\"})\n",
    "\n",
    "gdf_merge_blgstr.category = gdf_merge_blgstr.category.astype(\"object\").astype(\"int64\")\n",
    "\n",
    "# Merge gdf_blgstr with the subset of df_merge_op_blgstr on the \"buildingstructureid\" column\n",
    "gdf_merge_blgstr = pd.merge(gdf_merge_blgstr,\n",
    "                df_blgcat_subset,\n",
    "                on=\"category\", how=\"left\")"
   ]
  },
  {
   "cell_type": "code",
   "execution_count": 25,
   "metadata": {},
   "outputs": [],
   "source": [
    "today = pd.to_datetime('today', utc=True).normalize()\n",
    "\n",
    "gdf_merge_blgstr[\"calcdate\"] = today"
   ]
  },
  {
   "cell_type": "code",
   "execution_count": 26,
   "metadata": {},
   "outputs": [],
   "source": [
    "gdf_merge_blgstr['age'] = (gdf_merge_blgstr[\"calcdate\"] - gdf_merge_blgstr[\"opdate\"]) / pd.Timedelta(days=365)"
   ]
  },
  {
   "cell_type": "code",
   "execution_count": 27,
   "metadata": {},
   "outputs": [],
   "source": [
    "# Keep only relevant columns\n",
    "gdf_merge_blgstr = gdf_merge_blgstr.loc[:, (\"buildingstructureid\",\n",
    "                    \"buildingcsuid\",\n",
    "                    \"buildingstructuretype\",\n",
    "                    \"catdesc\",\n",
    "                    \"catnote\",\n",
    "                    \"status\",\n",
    "                    \"officialbuildingnameen\",\n",
    "                    \"officialbuildingnametc\",\n",
    "                    \"numabovegroundstoreys\",\n",
    "                    \"numbasementstoreys\",\n",
    "                    \"topheight\",\n",
    "                    \"baseheight\",\n",
    "                    \"opdate\",\n",
    "                    \"age\",\n",
    "                    \"shape\")]"
   ]
  },
  {
   "cell_type": "code",
   "execution_count": null,
   "metadata": {},
   "outputs": [],
   "source": [
    "#shp_path_1 = r\"C:\\Users\\Steve_Lau\\Desktop\\LS Training\\ls_project1\\buildingstr.shp\"\n",
    "#gdf_merge_blgstr.to_file(shp_path_1, encoding='utf-8')"
   ]
  },
  {
   "cell_type": "code",
   "execution_count": 28,
   "metadata": {},
   "outputs": [
    {
     "name": "stdout",
     "output_type": "stream",
     "text": [
      "<class 'geopandas.geodataframe.GeoDataFrame'>\n",
      "RangeIndex: 101064 entries, 0 to 101063\n",
      "Data columns (total 22 columns):\n",
      " #   Column        Non-Null Count   Dtype   \n",
      "---  ------        --------------   -----   \n",
      " 0   ogc_fid       101064 non-null  int64   \n",
      " 1   dataset_e     101064 non-null  object  \n",
      " 2   dataset_c     101064 non-null  object  \n",
      " 3   address_e     101064 non-null  object  \n",
      " 4   address_c     101042 non-null  object  \n",
      " 5   search1_e     101064 non-null  object  \n",
      " 6   search1_c     101064 non-null  object  \n",
      " 7   search2_e     101064 non-null  object  \n",
      " 8   search2_c     101064 non-null  object  \n",
      " 9   nsearch1_e    101064 non-null  float64 \n",
      " 10  nsearch1_c    101064 non-null  float64 \n",
      " 11  nsearch2_e    101064 non-null  object  \n",
      " 12  nsearch2_c    101064 non-null  object  \n",
      " 13  nsearch3_e    99488 non-null   object  \n",
      " 14  nsearch3_c    99488 non-null   object  \n",
      " 15  nsearch4_e    101064 non-null  object  \n",
      " 16  nsearch4_c    101064 non-null  object  \n",
      " 17  nsearch5_e    101064 non-null  object  \n",
      " 18  nsearch5_c    101064 non-null  object  \n",
      " 19  latitude      101064 non-null  float64 \n",
      " 20  longitude     101064 non-null  float64 \n",
      " 21  wkb_geometry  101064 non-null  geometry\n",
      "dtypes: float64(4), geometry(1), int64(1), object(16)\n",
      "memory usage: 17.0+ MB\n"
     ]
    }
   ],
   "source": []
  },
  {
   "cell_type": "code",
   "execution_count": null,
   "metadata": {},
   "outputs": [],
   "source": [
    "gdf_overlay_blg_site = gpd.overlay(gdf_merge_blgname,\n",
    "                                   gdf_site,\n",
    "                                   how='intersection')\n",
    "gdf_overlay_blg_site['area'] = gdf_overlay_blg_site.geometry.area"
   ]
  },
  {
   "cell_type": "code",
   "execution_count": null,
   "metadata": {},
   "outputs": [],
   "source": [
    "gdf_overlay_blg_site.sort_values(by='area', inplace=True)\n",
    "gdf_overlay_blg_site.drop_duplicates(subset='buildingid',\n",
    "                                     keep='last',\n",
    "                                     inplace=True)\n",
    "gdf_overlay_blg_site.drop(columns=['area'], inplace=True)"
   ]
  },
  {
   "cell_type": "code",
   "execution_count": null,
   "metadata": {},
   "outputs": [],
   "source": [
    "gdf_overlay_blg_site.head()"
   ]
  },
  {
   "cell_type": "code",
   "execution_count": null,
   "metadata": {},
   "outputs": [],
   "source": [
    "gdf_overlay_sitetype = gdf_overlay_blg_site[[\"buildingid\",\n",
    "                                             \"sitestype\",\n",
    "                                             \"sitecode\"]]\n",
    "\n",
    "gdf_sjoin_blg_site = gdf_merge_blgname.merge(gdf_overlay_sitetype,\n",
    "                                             on=\"buildingid\",\n",
    "                                             how=\"left\")\n",
    "\n",
    "gdf_sjoin_blg_site.head()"
   ]
  },
  {
   "cell_type": "code",
   "execution_count": null,
   "metadata": {},
   "outputs": [],
   "source": [
    "# Keep only relevant columns\n",
    "gdf_sjoin_blg_site = gdf_sjoin_blg_site.loc[:, (\"buildingid\",\n",
    "                    \"typeofbuildingblock\",\n",
    "                    \"baselevel\",\n",
    "                    \"rooflevel\",\n",
    "                    \"buildingstatus\",\n",
    "                    \"englishbuildingname\",\n",
    "                    \"chinesebuildingname\",\n",
    "                    \"sitestype\",\n",
    "                    \"sitecode\",\n",
    "                    \"shape\")]"
   ]
  },
  {
   "cell_type": "code",
   "execution_count": null,
   "metadata": {},
   "outputs": [],
   "source": [
    "m = leafmap.Map()\n",
    "\n",
    "m.add_gdf(gdf_sjoin_blg_site, layer_name=\"buildings\")\n",
    "m"
   ]
  }
 ],
 "metadata": {
  "kernelspec": {
   "display_name": "geolab",
   "language": "python",
   "name": "python3"
  },
  "language_info": {
   "codemirror_mode": {
    "name": "ipython",
    "version": 3
   },
   "file_extension": ".py",
   "mimetype": "text/x-python",
   "name": "python",
   "nbconvert_exporter": "python",
   "pygments_lexer": "ipython3",
   "version": "3.9.19"
  }
 },
 "nbformat": 4,
 "nbformat_minor": 2
}
