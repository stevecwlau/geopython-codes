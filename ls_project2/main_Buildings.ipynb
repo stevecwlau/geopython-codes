{
 "cells": [
  {
   "cell_type": "code",
   "execution_count": 1,
   "metadata": {},
   "outputs": [],
   "source": [
    "# Imports essential libraries for data manipulation (pandas), spatial data processing (geopandas), database connection (sqlalchemy), and mapping (leafmap).\n",
    "\n",
    "import pandas as pd\n",
    "import geopandas as gpd\n",
    "from sqlalchemy import create_engine,text \n",
    "import leafmap"
   ]
  },
  {
   "cell_type": "markdown",
   "metadata": {},
   "source": [
    "# Set up DB connection parameters within PostGIS"
   ]
  },
  {
   "cell_type": "code",
   "execution_count": 2,
   "metadata": {},
   "outputs": [],
   "source": [
    "# Define the db connection parameters\n",
    "username = \"postgres\"\n",
    "password = \"12345\"\n",
    "host = \"localhost\"\n",
    "dbname = \"Buildings\"\n",
    "port = \"5432\"\n",
    "\n",
    "pg_connection = f\"PG:host={host} port={port} dbname={dbname} user={username} password={password}\"\n",
    "engine = create_engine(f\"postgresql://{username}:{password}@{host}:{port}/{dbname}\")"
   ]
  },
  {
   "cell_type": "markdown",
   "metadata": {},
   "source": [
    "# Download data from CSDI Portal"
   ]
  },
  {
   "cell_type": "code",
   "execution_count": null,
   "metadata": {},
   "outputs": [],
   "source": [
    "# Download gdb from CSDI Portal\n",
    "\n",
    "from fgdbDL import download_and_extract_gdb \n",
    "\n",
    "# URL for \"Buildings\"\n",
    "#url = \"https://static.csdi.gov.hk/csdi-webpage/download/51d63757e2675874af80eef94afb6a35/fgdb\"\n",
    "\n",
    "# URL for \"iB1000 Topographic Map\"\n",
    "url = \"https://open.hkmapservice.gov.hk/OpenData/directDownload?productName=iB1000&sheetName=Fullset_Seamless&productFormat=FGDB\"\n",
    "\n",
    "storage_path = \"../../geospatial_data/ls_project2/\"\n",
    "\n",
    "download_and_extract_gdb(url, storage_path)"
   ]
  },
  {
   "cell_type": "code",
   "execution_count": null,
   "metadata": {},
   "outputs": [],
   "source": [
    "# Download shp from CSDI Portal\n",
    "\n",
    "from shpDL import download_and_extract_shp\n",
    "\n",
    "#url = 'https://static.csdi.gov.hk/csdi-webpage/download/0e55c533715b5da3ae0ca6e6024e90b4/shp'\n",
    "\n",
    "url = 'https://static.csdi.gov.hk/csdi-webpage/download/83cd933a39c7525581d6aa429a981c90/shp'\n",
    "\n",
    "storage_path = \"../../geospatial_data/ls_project2/\"\n",
    "\n",
    "download_and_extract_shp(url, storage_path)"
   ]
  },
  {
   "cell_type": "code",
   "execution_count": null,
   "metadata": {},
   "outputs": [],
   "source": [
    "# Compile OZP data from CSDI Portal using WFS\n",
    "\n",
    "from ozp2pgsql import fetch_and_process_wfs_data\n",
    "\n",
    "wfs_url = 'https://www.ozp.tpb.gov.hk/arcgis/services/DATA/OZP_PLAN_CSDI/MapServer/WFSServer?request=GetCapabilities&service=WFS'\n",
    "download_dir = \"../../geospatial_data/ls_project2/ozp\"\n",
    "postgis_conn_string = f\"postgresql://{username}:{password}@{host}:{port}/{dbname}\"\n",
    "schema_name = \"OZP\"\n",
    "\n",
    "fetch_and_process_wfs_data(wfs_url, download_dir, postgis_conn_string, schema_name=schema_name)"
   ]
  },
  {
   "cell_type": "markdown",
   "metadata": {},
   "source": [
    "# Set up paths and layers"
   ]
  },
  {
   "cell_type": "code",
   "execution_count": 3,
   "metadata": {},
   "outputs": [],
   "source": [
    "# Define the paths and layer name (comment out either one gdb_path when not in use)\n",
    "\n",
    "# Building Footprint database\n",
    "blg_gdb_path = \"../../geospatial_data/ls_project2/Building_Footprint.gdb\"\n",
    "\n",
    "# Lot database\n",
    "lot_gdb_path = \"../../geospatial_data/ls_project2/LandParcel_Lot.gdb\"\n",
    "\n",
    "# Building information and age records\n",
    "bdbiar_shp_path = \"../../geospatial_data/ls_project2/BDBIAR.shp\"\n",
    "\n",
    "# Building information and age records\n",
    "ib1000_gdb_path = \"../../geospatial_data/ls_project2/iB1000.gdb\"\n",
    "\n",
    "# District Boundary\n",
    "dcd_shp_path = \"../../geospatial_data/ls_project2/DCD.shp\""
   ]
  },
  {
   "cell_type": "markdown",
   "metadata": {},
   "source": [
    "# Import into a PostgreSQL database using ogr2ogr"
   ]
  },
  {
   "cell_type": "code",
   "execution_count": null,
   "metadata": {},
   "outputs": [],
   "source": [
    "# Imports Building Footprint GDB into a PostgreSQL database using ogr2ogr\n",
    "from gdb2pgsql import transfer_gdb_to_postgis\n",
    "\n",
    "transfer_gdb_to_postgis(blg_gdb_path, pg_connection, \"Buildings\")"
   ]
  },
  {
   "cell_type": "code",
   "execution_count": null,
   "metadata": {},
   "outputs": [],
   "source": [
    "# Imports Lot GDB into a PostgreSQL database using ogr2ogr\n",
    "from gdb2pgsql import transfer_gdb_to_postgis\n",
    "\n",
    "transfer_gdb_to_postgis(lot_gdb_path, pg_connection,\"Lot\")"
   ]
  },
  {
   "cell_type": "code",
   "execution_count": null,
   "metadata": {},
   "outputs": [],
   "source": [
    "# Imports Building information and age records SHP into a PostgreSQL database using ogr2ogr\n",
    "from shp2pgsql import import_shapefile_to_postgresql\n",
    "\n",
    "import_shapefile_to_postgresql(bdbiar_shp_path, pg_connection, \"Building_Age\")"
   ]
  },
  {
   "cell_type": "code",
   "execution_count": null,
   "metadata": {},
   "outputs": [],
   "source": [
    "# Imports iB1000 GDB into a PostgreSQL database using ogr2ogr\n",
    "from gdb2pgsql import transfer_gdb_to_postgis\n",
    "\n",
    "transfer_gdb_to_postgis(ib1000_gdb_path, pg_connection,\"iB1000\")"
   ]
  },
  {
   "cell_type": "code",
   "execution_count": null,
   "metadata": {},
   "outputs": [],
   "source": [
    "# Imports DCD SHP into a PostgreSQL database using ogr2ogr\n",
    "from shp2pgsql import import_shapefile_to_postgresql\n",
    "\n",
    "import_shapefile_to_postgresql(dcd_shp_path, pg_connection, \"DCD\")"
   ]
  },
  {
   "cell_type": "code",
   "execution_count": null,
   "metadata": {},
   "outputs": [],
   "source": [
    "# Replace variable with GDB path to inspect available layers within the specified GDB\n",
    "\n",
    "from gdbList import list_layers_with_types\n",
    "\n",
    "list_layers_with_types(lot_gdb_path)"
   ]
  },
  {
   "cell_type": "markdown",
   "metadata": {},
   "source": [
    "# Read data from PostgreSQL database into dataframes"
   ]
  },
  {
   "cell_type": "code",
   "execution_count": 4,
   "metadata": {},
   "outputs": [],
   "source": [
    "schema_buildings = '\"Buildings\"'\n",
    "schema_buildings_age = '\"Building_Age\"'\n",
    "schema_ib1000 = '\"iB1000\"'\n",
    "schema_ozp = '\"OZP\"'\n",
    "schema_lot = '\"Lot\"'\n",
    "schema_dcd = '\"DCD\"'\n",
    "\n",
    "table_op = \"OCCUPATION_PERMIT\"\n",
    "table_op_blgstr = \"OP_BUILDING_STRUCTURE\"\n",
    "table_blginfo = \"BUILDING_INFO\"\n",
    "table_blgstr = \"BUILDING_STRUCTURE\"\n",
    "table_blgcat = \"CT_BUILDING_CATEGORY\"\n",
    "table_bdbiar = \"BDBIAR\"\n",
    "table_ib1000_blg = \"BUILDING\"\n",
    "table_ib1000_site = \"SITE\"\n",
    "table_gdf_merged_ozp = \"gdf_merged_ozp\"\n",
    "table_gdf_lot = \"LOT\"\n",
    "table_lotlandinfo = \"LOTLANDINFO\"\n",
    "table_lot_register = \"LOT_REGISTER\"\n",
    "table_landdocument = \"LANDDOCUMENT\"\n",
    "table_dcd = \"DCD\"\n",
    "\n",
    "sql_op = text(f\"SELECT * FROM {schema_buildings}.{table_op}\")\n",
    "sql_op_blgstr = text(f\"SELECT * FROM {schema_buildings}.{table_op_blgstr}\")\n",
    "sql_blginfo = text(f\"SELECT * FROM {schema_buildings}.{table_blginfo}\")\n",
    "sql_blstr = text(f\"SELECT * FROM {schema_buildings}.{table_blgstr}\")\n",
    "sql_blgcat = text(f\"SELECT * FROM {schema_buildings}.{table_blgcat}\")\n",
    "sql_bdbiar = text(f\"SELECT * FROM {schema_buildings_age}.{table_bdbiar}\")\n",
    "sql_ib1000_blg = text(f\"SELECT * FROM {schema_ib1000}.{table_ib1000_blg}\")\n",
    "sql_ib1000_site = text(f\"SELECT * FROM {schema_ib1000}.{table_ib1000_site}\")\n",
    "sql_gdf_merged_ozp = text(f\"SELECT * FROM {schema_ozp}.{table_gdf_merged_ozp}\")\n",
    "sql_gdf_lot = text(f\"SELECT * FROM {schema_lot}.{table_gdf_lot}\")\n",
    "sql_lotlandinfo = text(f\"SELECT * FROM {schema_lot}.{table_lotlandinfo}\")\n",
    "sql_lot_register = text(f\"SELECT * FROM {schema_lot}.{table_lot_register}\")\n",
    "sql_landdocument = text(f\"SELECT * FROM {schema_lot}.{table_landdocument}\")\n",
    "sql_gdf_dcd = text(f\"SELECT * FROM {schema_dcd}.{table_dcd}\")"
   ]
  },
  {
   "cell_type": "code",
   "execution_count": 5,
   "metadata": {},
   "outputs": [],
   "source": [
    "# Read the tables into DataFrames\n",
    "df_op = pd.read_sql(sql_op, con=engine.connect())\n",
    "df_op_blgstr = pd.read_sql(sql_op_blgstr, con=engine.connect())\n",
    "df_blgcat = pd.read_sql(sql_blgcat, con=engine.connect())\n",
    "df_blginfo = pd.read_sql(sql_blginfo, con=engine.connect())\n",
    "df_lotlandinfo = pd.read_sql(sql_lotlandinfo, con=engine.connect())\n",
    "df_lot_register = pd.read_sql(sql_lot_register, con=engine.connect())\n",
    "df_landdocument = pd.read_sql(sql_landdocument, con=engine.connect())\n",
    "\n",
    "# Read the tables with geometry into DataFrames\n",
    "gdf_blgstr = gpd.read_postgis(sql_blstr, con=engine.connect(), geom_col=\"shape\") \n",
    "gdf_bdbiar = gpd.read_postgis(sql_bdbiar, con=engine.connect(), geom_col=\"wkb_geometry\")\n",
    "gdf_ib1000_blg = gpd.read_postgis(sql_ib1000_blg, con=engine.connect(), geom_col=\"shape\")\n",
    "gdf_ib1000_site = gpd.read_postgis(sql_ib1000_site, con=engine.connect(), geom_col=\"shape\")\n",
    "gdf_merged_ozp = gpd.read_postgis(sql_gdf_merged_ozp, con=engine.connect(), geom_col=\"geometry\")\n",
    "gdf_lot = gpd.read_postgis(sql_gdf_lot, con=engine.connect(), geom_col=\"shape\")\n",
    "gdf_dcd = gpd.read_postgis(sql_gdf_dcd, con=engine.connect(), geom_col=\"wkb_geometry\")"
   ]
  },
  {
   "cell_type": "code",
   "execution_count": null,
   "metadata": {},
   "outputs": [],
   "source": [
    "# Define the remapping dictionary\n",
    "remap_dict = {\n",
    "    'Agriculture(1)': 'Agriculture', \n",
    "    'Commercial / Residential(1)': 'Commercial / Residential', \n",
    "    'Commercial / Residential(2)': 'Commercial / Residential', \n",
    "    'Commercial / Residential(3)': 'Commercial / Residential', \n",
    "    'Commercial / Residential(4)': 'Commercial / Residential', \n",
    "    'Commercial(1)': 'Commercial', \n",
    "    'Commercial(2)': 'Commercial', \n",
    "    'Commercial(3)': 'Commercial', \n",
    "    'Commercial(4)': 'Commercial', \n",
    "    'Commercial(5)': 'Commercial', \n",
    "    'Commercial(6)': 'Commercial', \n",
    "    'Commercial(7)': 'Commercial', \n",
    "    'Commercial(8)': 'Commercial', \n",
    "    'Commercial(9)': 'Commercial',\n",
    "    'Commercial (3)': 'Commercial',\n",
    "    'Commercial (4)': 'Commercial',\n",
    "    'Commercial (1)': 'Commercial',\n",
    "    'Commercial (2)': 'Commercial',\n",
    "    'Commercial(11)': 'Commercial',\n",
    "    'Commercial(10)': 'Commercial',\n",
    "    'Comprehensive Development Area(1)': 'Comprehensive Development Area', \n",
    "    'Comprehensive Development Area(2)': 'Comprehensive Development Area', \n",
    "    'Comprehensive Development Area(3)': 'Comprehensive Development Area', \n",
    "    'Comprehensive Development Area(4)': 'Comprehensive Development Area', \n",
    "    'Comprehensive Development Area(5)': 'Comprehensive Development Area', \n",
    "    'Comprehensive Development Area(6)': 'Comprehensive Development Area', \n",
    "    'Conservation Area(1)': 'Conservation Area', \n",
    "    'Government, Institution or Community(1)': 'Government, Institution or Community', \n",
    "    'Government, Institution or Community(10)': 'Government, Institution or Community', \n",
    "    'Government, Institution or Community(2)': 'Government, Institution or Community', \n",
    "    'Government, Institution or Community(3)': 'Government, Institution or Community', \n",
    "    'Government, Institution or Community(4)': 'Government, Institution or Community', \n",
    "    'Government, Institution or Community(5)': 'Government, Institution or Community', \n",
    "    'Government, Institution or Community(6)': 'Government, Institution or Community', \n",
    "    'Government, Institution or Community(7)': 'Government, Institution or Community', \n",
    "    'Government, Institution or Community(8)': 'Government, Institution or Community', \n",
    "    'Government, Institution or Community(9)': 'Government, Institution or Community',\n",
    "    'Government, Institution or Community (1)': 'Government, Institution or Community',\n",
    "    'Government, Institution or Community(13)': 'Government, Institution or Community',\n",
    "    'Government, Institution or Community(12)': 'Government, Institution or Community',\n",
    "    'Government, Institution or Community(11)': 'Government, Institution or Community',\n",
    "    'Green Belt(1)': 'Green Belt', \n",
    "    'Green Belt(2)': 'Green Belt', \n",
    "    'Industrial(1)': 'Industrial', \n",
    "    'Industrial(2)': 'Industrial', \n",
    "    'Industrial(3)': 'Industrial', \n",
    "    'Open Space(1)': 'Open Space', \n",
    "    'Open Space(2)': 'Open Space', \n",
    "    'Open Space(3)': 'Open Space', \n",
    "    'Other Specified Uses(1)': 'Other Specified Uses', \n",
    "    'Other Specified Uses(2)': 'Other Specified Uses', \n",
    "    'Other Specified Uses(3)': 'Other Specified Uses', \n",
    "    'Other Specified Uses(4)': 'Other Specified Uses', \n",
    "    'Other Specified Uses(5)': 'Other Specified Uses', \n",
    "    'Other Specified Uses(6)': 'Other Specified Uses', \n",
    "    'Residential (Group A)1': 'Residential (Group A)', \n",
    "    'Residential (Group A)10': 'Residential (Group A)', \n",
    "    'Residential (Group A)11': 'Residential (Group A)', \n",
    "    'Residential (Group A)12': 'Residential (Group A)', \n",
    "    'Residential (Group A)13': 'Residential (Group A)', \n",
    "    'Residential (Group A)14': 'Residential (Group A)', \n",
    "    'Residential (Group A)15': 'Residential (Group A)', \n",
    "    'Residential (Group A)16': 'Residential (Group A)', \n",
    "    'Residential (Group A)17': 'Residential (Group A)', \n",
    "    'Residential (Group A)18': 'Residential (Group A)', \n",
    "    'Residential (Group A)19': 'Residential (Group A)', \n",
    "    'Residential (Group A)2': 'Residential (Group A)', \n",
    "    'Residential (Group A)20': 'Residential (Group A)', \n",
    "    'Residential (Group A)21': 'Residential (Group A)', \n",
    "    'Residential (Group A)22': 'Residential (Group A)', \n",
    "    'Residential (Group A)23': 'Residential (Group A)', \n",
    "    'Residential (Group A)24': 'Residential (Group A)', \n",
    "    'Residential (Group A)25': 'Residential (Group A)', \n",
    "    'Residential (Group A)26': 'Residential (Group A)', \n",
    "    'Residential (Group A)3': 'Residential (Group A)', \n",
    "    'Residential (Group A)4': 'Residential (Group A)', \n",
    "    'Residential (Group A)5': 'Residential (Group A)', \n",
    "    'Residential (Group A)6': 'Residential (Group A)', \n",
    "    'Residential (Group A)7': 'Residential (Group A)', \n",
    "    'Residential (Group A)8': 'Residential (Group A)', \n",
    "    'Residential (Group A)9': 'Residential (Group A)', \n",
    "    'Residential (Group B)1': 'Residential (Group B)', \n",
    "    'Residential (Group B)10': 'Residential (Group B)', \n",
    "    'Residential (Group B)11': 'Residential (Group B)', \n",
    "    'Residential (Group B)12': 'Residential (Group B)', \n",
    "    'Residential (Group B)14': 'Residential (Group B)', \n",
    "    'Residential (Group B)16': 'Residential (Group B)', \n",
    "    'Residential (Group B)17': 'Residential (Group B)', \n",
    "    'Residential (Group B)19': 'Residential (Group B)', \n",
    "    'Residential (Group B)2': 'Residential (Group B)', \n",
    "    'Residential (Group B)3': 'Residential (Group B)', \n",
    "    'Residential (Group B)4': 'Residential (Group B)', \n",
    "    'Residential (Group B)5': 'Residential (Group B)', \n",
    "    'Residential (Group B)6': 'Residential (Group B)', \n",
    "    'Residential (Group B)7': 'Residential (Group B)', \n",
    "    'Residential (Group B)8': 'Residential (Group B)', \n",
    "    'Residential (Group B)20': 'Residential (Group B)',\n",
    "    'Residential (Group B)15': 'Residential (Group B)',\n",
    "    'Residential (Group A)27': 'Residential (Group B)',\n",
    "    'Residential (Group A)28': 'Residential (Group B)',\n",
    "    'Residential (Group B)13': 'Residential (Group B)',\n",
    "    'Residential (Group B)9': 'Residential (Group B)',\n",
    "    'Residential (Group B)18': 'Residential (Group B)',\n",
    "    'Residential (Group C)1': 'Residential (Group C)', \n",
    "    'Residential (Group C)10': 'Residential (Group C)', \n",
    "    'Residential (Group C)11': 'Residential (Group C)', \n",
    "    'Residential (Group C)12': 'Residential (Group C)', \n",
    "    'Residential (Group C)13': 'Residential (Group C)', \n",
    "    'Residential (Group C)14': 'Residential (Group C)', \n",
    "    'Residential (Group C)15': 'Residential (Group C)', \n",
    "    'Residential (Group C)2': 'Residential (Group C)', \n",
    "    'Residential (Group C)3': 'Residential (Group C)', \n",
    "    'Residential (Group C)4': 'Residential (Group C)', \n",
    "    'Residential (Group C)5': 'Residential (Group C)', \n",
    "    'Residential (Group C)6': 'Residential (Group C)', \n",
    "    'Residential (Group C)7': 'Residential (Group C)', \n",
    "    'Residential (Group C)8': 'Residential (Group C)', \n",
    "    'Residential (Group C)9': 'Residential (Group C)', \n",
    "    'Residential (Group D)1': 'Residential (Group D)', \n",
    "    'Residential (Group E)1': 'Residential (Group E)', \n",
    "    'Residential (Group E)2': 'Residential (Group E)', \n",
    "    'Village Type Development(1)': 'Village Type Development',\n",
    "    'Recreation(1)': 'Recreation',\n",
    "    'Site of Special Scientific Interest(1)': 'Site of Special Scientific Interest',\n",
    "    'Comprehensive Development Area (2)': 'Comprehensive Development Area',\n",
    "    'Coastal Protection Area(1)': 'Coastal Protection Area'\n",
    "}\n",
    "\n",
    "# Apply the remapping to the GeoDataFrame and keep unmapped values unchanged\n",
    "gdf_merged_ozp['DESC_ENG'] = gdf_merged_ozp['DESC_ENG'].map(remap_dict).fillna(gdf_merged_ozp['DESC_ENG'])\n",
    "\n",
    "gdf_merged_ozp.to_postgis(\"gdf_merged_ozp\", engine, if_exists=\"replace\", schema=\"OZP\")"
   ]
  },
  {
   "cell_type": "code",
   "execution_count": 6,
   "metadata": {},
   "outputs": [],
   "source": [
    "# Select only the \"opno\" and \"opdate\" columns from df_op\n",
    "df_op_subset = df_op[[\"opno\", \"opdate\"]]\n",
    "\n",
    "df_op_subset.opdate = pd.to_datetime(df_op_subset[\"opdate\"], utc=True)\n",
    "\n",
    "# Merge df_op_blgstr with the subset of df_op on the \"opno\" column\n",
    "df_merge_op_blgstr = pd.merge(df_op_blgstr,\n",
    "                            df_op_subset,\n",
    "                            on=\"opno\",\n",
    "                            how=\"right\")"
   ]
  },
  {
   "cell_type": "code",
   "execution_count": 7,
   "metadata": {},
   "outputs": [],
   "source": [
    "# Select only the \"buildingstructureid\" and \"opdate\" columns from df_merge_op_blgstr\n",
    "df_merge_op_blgstr_subset = df_merge_op_blgstr[[\"buildingstructureid\", \"opno\", \"opdate\"]]\n",
    "\n",
    "# Merge gdf_blgstr with the subset of df_merge_op_blgstr on the \"buildingstructureid\" column\n",
    "gdf_merge_blgstr = pd.merge(gdf_blgstr,\n",
    "                df_merge_op_blgstr_subset,\n",
    "                on=\"buildingstructureid\", how=\"left\")"
   ]
  },
  {
   "cell_type": "code",
   "execution_count": 8,
   "metadata": {},
   "outputs": [],
   "source": [
    "# Select only the \"buildingstructureid\", \"infotype\" and \"infodescription\" columns from df_blginfo\n",
    "df_blginfo_subset = df_blginfo[[\"buildingstructureid\", \"infotype\", \"infodescription\"]]\n",
    "\n",
    "# Merge gdf_merge_blgstr with the subset of df_blginfo on the \"buildingstructureid\" column\n",
    "gdf_merge_blgstr = pd.merge(gdf_merge_blgstr,\n",
    "                df_blginfo_subset,\n",
    "                on=\"buildingstructureid\", how=\"left\")"
   ]
  },
  {
   "cell_type": "code",
   "execution_count": 9,
   "metadata": {},
   "outputs": [],
   "source": [
    "# Select only the \"buildingstructureid\" and \"opdate\" columns from df_merge_op_blgstr\n",
    "df_blgcat_subset = df_blgcat[[\"code\",\n",
    "                              \"description\",\n",
    "                              \"note\"]]\n",
    "\n",
    "df_blgcat_subset = df_blgcat_subset.rename(columns={\"code\": \"category\",\n",
    "                                 \"description\": \"catdesc\",\n",
    "                                 \"note\": \"catnote\"})\n",
    "\n",
    "gdf_merge_blgstr.category = gdf_merge_blgstr.category.astype(\"object\").astype(\"int64\")\n",
    "\n",
    "# Merge gdf_blgstr with the subset of df_merge_op_blgstr on the \"buildingstructureid\" column\n",
    "gdf_merge_blgstr = pd.merge(gdf_merge_blgstr,\n",
    "                df_blgcat_subset,\n",
    "                on=\"category\", how=\"left\")"
   ]
  },
  {
   "cell_type": "code",
   "execution_count": 10,
   "metadata": {},
   "outputs": [],
   "source": [
    "today = pd.to_datetime('today', utc=True).normalize()\n",
    "\n",
    "gdf_merge_blgstr[\"calcdate\"] = today"
   ]
  },
  {
   "cell_type": "code",
   "execution_count": 11,
   "metadata": {},
   "outputs": [],
   "source": [
    "gdf_merge_blgstr['age_blg'] = (gdf_merge_blgstr[\"calcdate\"] - gdf_merge_blgstr[\"opdate\"]) / pd.Timedelta(days=365)"
   ]
  },
  {
   "cell_type": "markdown",
   "metadata": {},
   "source": [
    "# Filter Building structure and Building age by \"Tower\" type"
   ]
  },
  {
   "cell_type": "code",
   "execution_count": 12,
   "metadata": {},
   "outputs": [],
   "source": [
    "# Remove \" district\" from all records in the district column\n",
    "gdf_dcd['name_en'] = gdf_dcd['name_en'].str.replace(' District', '', regex=False)\n",
    "\n",
    "# Define district groups\n",
    "hong_kong_districts = [\"Central and Western\", \"Eastern\", \"Southern\", \"Wan Chai\"]\n",
    "kowloon_districts = [\"Kowloon City\", \"Kwun Tong\", \"Sham Shui Po\", \"Wong Tai Sin\", \"Yau Tsim Mong\"]\n",
    "new_territories_districts = [\"Islands\", \"Kwai Tsing\", \"North\", \"Sai Kung\", \"Sha Tin\", \"Tai Po\", \"Tsuen Wan\", \"Tuen Mun\", \"Yuen Long\"]\n",
    "\n",
    "# Assign regions\n",
    "gdf_dcd['region'] = None\n",
    "gdf_dcd.loc[gdf_dcd['name_en'].isin(hong_kong_districts), 'region'] = 'Hong Kong'\n",
    "gdf_dcd.loc[gdf_dcd['name_en'].isin(kowloon_districts), 'region'] = 'Kowloon'\n",
    "gdf_dcd.loc[gdf_dcd['name_en'].isin(new_territories_districts), 'region'] = 'New Territories'"
   ]
  },
  {
   "cell_type": "code",
   "execution_count": 13,
   "metadata": {},
   "outputs": [],
   "source": [
    "gdf_bdbiar.to_crs(epsg=2326, inplace=True)"
   ]
  },
  {
   "cell_type": "code",
   "execution_count": 14,
   "metadata": {},
   "outputs": [],
   "source": [
    "# Select only the \"name_en\" and \"region\" columns from gdf_dcd\n",
    "gdf_dcd_subset = gdf_dcd[[\"name_en\", \"region\", \"wkb_geometry\"]]\n",
    "\n",
    "gdf_bdbiar = gpd.sjoin(gdf_bdbiar, gdf_dcd, how=\"left\")\n",
    "\n",
    "# Rename the columns\n",
    "gdf_bdbiar = gdf_bdbiar.rename(columns={'name_en': 'district'})\n",
    "\n",
    "gdf_bdbiar = gdf_bdbiar.drop(['index_right'], axis=1)"
   ]
  },
  {
   "cell_type": "code",
   "execution_count": 15,
   "metadata": {},
   "outputs": [],
   "source": [
    "gdf_blgstr_tower = gdf_merge_blgstr[gdf_merge_blgstr.buildingstructuretype == \"T\"]\n",
    "gdf_bdbiar_tower = gdf_bdbiar[gdf_bdbiar.nsearch4_e == \"Tower\"]"
   ]
  },
  {
   "cell_type": "code",
   "execution_count": 16,
   "metadata": {},
   "outputs": [],
   "source": [
    "gdf_sjoin_blgstr = gpd.sjoin_nearest(gdf_blgstr_tower, gdf_bdbiar_tower, how=\"left\", max_distance=10)\n",
    "\n",
    "gdf_sjoin_blgstr = gdf_sjoin_blgstr.drop(['index_right'], axis=1)"
   ]
  },
  {
   "cell_type": "code",
   "execution_count": 17,
   "metadata": {},
   "outputs": [],
   "source": [
    "# Ensure both columns are in datetime format\n",
    "gdf_sjoin_blgstr['nsearch3_e'] = pd.to_datetime(gdf_sjoin_blgstr['nsearch3_e'], errors='coerce')\n",
    "\n",
    "# Convert to timezone-naive (assuming UTC for timezone-aware)\n",
    "gdf_sjoin_blgstr['calcdate'] = gdf_sjoin_blgstr['calcdate'].dt.tz_localize(None)\n",
    "\n",
    "# Calculate the age in years\n",
    "gdf_sjoin_blgstr['age_bdbiar'] = (gdf_sjoin_blgstr[\"calcdate\"] - gdf_sjoin_blgstr[\"nsearch3_e\"]) / pd.Timedelta(days=365)"
   ]
  },
  {
   "cell_type": "code",
   "execution_count": 18,
   "metadata": {},
   "outputs": [],
   "source": [
    "# Select only the \"sitestype\" and \"sitecode\" columns from gdf_ib1000_site\n",
    "gdf_ib1000_site_subset = gdf_ib1000_site[[\"sitestype\", \"sitecode\", \"shape\"]]\n",
    "\n",
    "gdf_sjoin_blgstr = gpd.sjoin(gdf_sjoin_blgstr, gdf_ib1000_site_subset, how=\"left\")\n",
    "\n",
    "gdf_sjoin_blgstr = gdf_sjoin_blgstr.drop(['index_right'], axis=1)"
   ]
  },
  {
   "cell_type": "code",
   "execution_count": 19,
   "metadata": {},
   "outputs": [],
   "source": [
    "# Select only the \"DESC_ENG\" and \"SPUSE_ENG\" columns from gdf_merged_ozp\n",
    "gdf_merged_ozp_subset = gdf_merged_ozp[[\"DESC_ENG\", \"SPUSE_ENG\", \"geometry\"]]\n",
    "\n",
    "gdf_overlay_blgstr_ozp = gpd.overlay(gdf_sjoin_blgstr, gdf_merged_ozp_subset, how=\"intersection\")\n",
    "\n",
    "#Sort by area so largest area is last\n",
    "gdf_overlay_blgstr_ozp['area'] = gdf_overlay_blgstr_ozp.geometry.area\n",
    "gdf_overlay_blgstr_ozp.sort_values(by='area', inplace=True)\n",
    "\n",
    "#Drop duplicates, keep last/largest\n",
    "gdf_overlay_blgstr_ozp.drop_duplicates(subset='buildingstructureid', keep='last', inplace=True)\n",
    "gdf_overlay_blgstr_ozp.drop(columns=['area'], inplace=True)"
   ]
  },
  {
   "cell_type": "code",
   "execution_count": 20,
   "metadata": {},
   "outputs": [],
   "source": [
    "# Select only the \"buildingstructureid\", \"DESC_ENG\" and \"SPUSE_ENG\" columns from gdf_overlay_blgstr\n",
    "gdf_overlay_blgstr_ozp_subset = gdf_overlay_blgstr_ozp[[\"buildingstructureid\", \"DESC_ENG\", \"SPUSE_ENG\"]]\n",
    "\n",
    "gdf_sjoin_blgstr = gdf_sjoin_blgstr.merge(gdf_overlay_blgstr_ozp_subset, on=\"buildingstructureid\", how=\"left\")"
   ]
  },
  {
   "cell_type": "code",
   "execution_count": 21,
   "metadata": {},
   "outputs": [],
   "source": [
    "# Select only the \"buildingstructureid\", \"DESC_ENG\" and \"SPUSE_ENG\" columns from gdf_overlay_blgstr\n",
    "df_landdocument_subset = df_landdocument[[\"prn\", \"usertype\"]]\n",
    "\n",
    "df_merge_lot_usertype = df_lot_register.merge(df_landdocument_subset, on=\"prn\", how=\"left\")"
   ]
  },
  {
   "cell_type": "code",
   "execution_count": 22,
   "metadata": {},
   "outputs": [],
   "source": [
    "df_merge_lot_usertype.rename(columns={'lotcsuid_landsdformat':'lotcsuid'}, inplace=True)\n",
    "\n",
    "# Select only the \"buildingstructureid\", \"DESC_ENG\" and \"SPUSE_ENG\" columns from gdf_overlay_blgstr\n",
    "df_merge_lot_usertype_subset = df_merge_lot_usertype[[\"lotcsuid\", \"usertype\"]]\n",
    "\n",
    "gdf_lot_usertype = gdf_lot.merge(df_merge_lot_usertype_subset, on=\"lotcsuid\", how=\"left\")"
   ]
  },
  {
   "cell_type": "code",
   "execution_count": 23,
   "metadata": {},
   "outputs": [],
   "source": [
    "# Select only the \"DESC_ENG\" and \"SPUSE_ENG\" columns from gdf_merged_ozp\n",
    "gdf_lot_usertype_subset = gdf_lot_usertype[[\"usertype\", \"shape\"]]\n",
    "\n",
    "# Perform spatial overlay\n",
    "gdf_overlay_blgstr_lot = gpd.overlay(gdf_sjoin_blgstr, gdf_lot_usertype_subset, how=\"intersection\")\n",
    "\n",
    "# Calculate area of the intersected polygons\n",
    "gdf_overlay_blgstr_lot['intersected_area'] = gdf_overlay_blgstr_lot.geometry.area\n",
    "\n",
    "# Calculate area of the original polygons\n",
    "gdf_sjoin_blgstr['original_area'] = gdf_sjoin_blgstr.geometry.area\n",
    "\n",
    "# Merge the original area into the overlay GeoDataFrame\n",
    "gdf_overlay_blgstr_lot = gdf_overlay_blgstr_lot.merge(gdf_sjoin_blgstr[['buildingstructureid', 'original_area']], on='buildingstructureid')\n",
    "\n",
    "# Calculate the ratio of the intersected area to the original area\n",
    "gdf_overlay_blgstr_lot['area_ratio'] = gdf_overlay_blgstr_lot['intersected_area'] / gdf_overlay_blgstr_lot['original_area']\n",
    "\n",
    "# Filter out polygons where the area ratio is less than 20%\n",
    "gdf_overlay_blgstr_lot = gdf_overlay_blgstr_lot[gdf_overlay_blgstr_lot['area_ratio'] >= 0.2]\n",
    "\n",
    "# Sort by intersected area so largest area is last\n",
    "gdf_overlay_blgstr_lot.sort_values(by='intersected_area', inplace=True)\n",
    "\n",
    "# Drop duplicates, keep last/largest\n",
    "gdf_overlay_blgstr_lot.drop_duplicates(subset='buildingstructureid', keep='last', inplace=True)"
   ]
  },
  {
   "cell_type": "code",
   "execution_count": 24,
   "metadata": {},
   "outputs": [],
   "source": [
    "# Select only the \"buildingstructureid\", \"DESC_ENG\" and \"SPUSE_ENG\" columns from gdf_overlay_blgstr\n",
    "gdf_overlay_blgstr_lot_subset = gdf_overlay_blgstr_lot[[\"buildingstructureid\", \"usertype\",'intersected_area', 'original_area', 'area_ratio']]\n",
    "\n",
    "gdf_sjoin_blgstr = gdf_sjoin_blgstr.merge(gdf_overlay_blgstr_lot_subset, on=\"buildingstructureid\", how=\"left\")\n",
    "\n",
    "# Drop unnecessary columns\n",
    "gdf_overlay_blgstr_lot.drop(columns=['intersected_area', 'original_area', 'area_ratio'], inplace=True)"
   ]
  },
  {
   "cell_type": "code",
   "execution_count": 25,
   "metadata": {},
   "outputs": [],
   "source": [
    "gdf_sjoin_blgstr['age_final'] = gdf_sjoin_blgstr['age_blg']\n",
    "gdf_sjoin_blgstr['age_final'] = gdf_sjoin_blgstr['age_final'].fillna(gdf_sjoin_blgstr['age_bdbiar'])"
   ]
  },
  {
   "cell_type": "code",
   "execution_count": 26,
   "metadata": {},
   "outputs": [],
   "source": [
    "sitestype_dict = {\n",
    "    1: \"Farm\",\n",
    "    2: \"Accommodation\",\n",
    "    3: \"Commerce\",\n",
    "    4: \"Education & Training\",\n",
    "    5: \"Health & Medical Service\",\n",
    "    6: \"Leisure, Culture & Sports\",\n",
    "    7: \"Organization\",\n",
    "    8: \"Public & Social Service\",\n",
    "    9: \"Religion\",\n",
    "    10: \"Tourist Attraction\",\n",
    "    11: \"Military\",\n",
    "    12: \"Industry\",\n",
    "    13: \"Works Area\",\n",
    "    14: \"Transportation\",\n",
    "    15: \"Utilities\"\n",
    "}\n",
    "\n",
    "# Replace the values in the 'sitestype' column using the dictionary\n",
    "gdf_sjoin_blgstr['sitestype'] = gdf_sjoin_blgstr['sitestype'].replace(sitestype_dict)"
   ]
  },
  {
   "cell_type": "code",
   "execution_count": 27,
   "metadata": {},
   "outputs": [],
   "source": [
    "gdf_sjoin_blgstr['blguse_final'] = gdf_sjoin_blgstr['nsearch5_e']\n",
    "\n",
    "# Create a condition to check where 'nsearch5_e' is NaN or 'others'\n",
    "condition = gdf_sjoin_blgstr['nsearch5_e'].isna() | (gdf_sjoin_blgstr['nsearch5_e'] == 'Others')\n",
    "\n",
    "# Fill 'nsearch5_e' with 'sitestype' values where the condition is true\n",
    "gdf_sjoin_blgstr.loc[condition, 'blguse_final'] = gdf_sjoin_blgstr.loc[condition, 'sitestype']\n",
    "\n",
    "gdf_sjoin_blgstr['blguse_final'] = gdf_sjoin_blgstr['blguse_final'].fillna(gdf_sjoin_blgstr['usertype'])\n",
    "gdf_sjoin_blgstr['blguse_final'] = gdf_sjoin_blgstr['blguse_final'].fillna(gdf_sjoin_blgstr['DESC_ENG'])"
   ]
  },
  {
   "cell_type": "code",
   "execution_count": 28,
   "metadata": {},
   "outputs": [],
   "source": [
    "# Keep only relevant columns\n",
    "gdf_sjoin_blgstr = gdf_sjoin_blgstr.loc[:, (\"buildingstructureid\",\n",
    "                    \"buildingcsuid\",\n",
    "                    \"buildingstructuretype\",\n",
    "                    \"region\",\n",
    "                    \"district\",\n",
    "                    \"infotype\",\n",
    "                    \"infodescription\",\n",
    "                    \"catdesc\",\n",
    "                    \"catnote\",\n",
    "                    \"status\",\n",
    "                    \"officialbuildingnameen\",\n",
    "                    \"officialbuildingnametc\",\n",
    "                    \"numabovegroundstoreys\",\n",
    "                    \"numbasementstoreys\",\n",
    "                    \"topheight\",\n",
    "                    \"baseheight\",\n",
    "                    \"opno\",\n",
    "                    \"opdate\",\n",
    "                    \"age_blg\",\n",
    "                    \"age_bdbiar\",\n",
    "                    \"age_final\",\n",
    "                    \"address_e\",\n",
    "                    \"address_c\",\n",
    "                    \"search1_e\",\n",
    "                    \"search1_c\",\n",
    "                    \"search2_e\",\n",
    "                    \"search2_c\",\n",
    "                    \"nsearch2_e\",\n",
    "                    \"nsearch2_c\",\n",
    "                    \"nsearch3_e\",\n",
    "                    \"nsearch3_c\",\n",
    "                    \"nsearch4_e\",\n",
    "                    \"nsearch4_c\",\n",
    "                    \"nsearch5_e\",\n",
    "                    \"nsearch5_c\",\n",
    "                    \"sitestype\",\n",
    "                    \"sitecode\",\n",
    "                    \"DESC_ENG\",\n",
    "                    \"SPUSE_ENG\",\n",
    "                    \"usertype\",\n",
    "                    \"blguse_final\",\n",
    "                    \"shape\"\n",
    "                    )]"
   ]
  },
  {
   "cell_type": "code",
   "execution_count": 29,
   "metadata": {},
   "outputs": [],
   "source": [
    "gdf_sjoin_blgstr['officialbuildingnameen'] = gdf_sjoin_blgstr['officialbuildingnameen'].fillna(\"N/A\")\n",
    "gdf_sjoin_blgstr['officialbuildingnametc'] = gdf_sjoin_blgstr['officialbuildingnametc'].fillna(\"N/A\")\n",
    "gdf_sjoin_blgstr['blguse_final'] = gdf_sjoin_blgstr['blguse_final'].fillna(\"N/A\")\n",
    "\n",
    "gdf_sjoin_blgstr['blguse_final'] = gdf_sjoin_blgstr['blguse_final'].str.title()"
   ]
  },
  {
   "cell_type": "code",
   "execution_count": 30,
   "metadata": {},
   "outputs": [],
   "source": [
    "# Load the lookup data into a DataFrame\n",
    "df_new_blguse = pd.read_csv(\"new_blguse.csv\")\n",
    "\n",
    "# Create a dictionary for mapping values\n",
    "mapping_dict = pd.Series(df_new_blguse.new_use.values, index=df_new_blguse.old_use).to_dict()\n",
    "\n",
    "# Use the mapping dictionary to replace values in the 'blguse_final' column of the main DataFrame\n",
    "gdf_sjoin_blgstr['blguse_final'] = gdf_sjoin_blgstr['blguse_final'].map(mapping_dict)\n",
    "\n",
    "gdf_sjoin_blgstr['blguse_final'] = gdf_sjoin_blgstr['blguse_final'].fillna(\"N/A\")"
   ]
  },
  {
   "cell_type": "code",
   "execution_count": 31,
   "metadata": {},
   "outputs": [],
   "source": [
    "gdf_sjoin_blgstr.to_postgis(\"gdf_sjoin_blgstr_10m\", engine, schema='Output', if_exists=\"replace\")"
   ]
  },
  {
   "cell_type": "code",
   "execution_count": null,
   "metadata": {},
   "outputs": [],
   "source": [
    "import csv\n",
    "\n",
    "def list_to_text_table(data):\n",
    "    # Prepare table header\n",
    "    table = f\"{'Category':<40}\\n\"\n",
    "    table += '-' * 40 + '\\n'\n",
    "\n",
    "    # Prepare table rows\n",
    "    for item in data:\n",
    "        table += f\"{item:<40}\\n\"\n",
    "    \n",
    "    return table\n",
    "\n",
    "data = gdf_sjoin_blgstr.blguse_final.unique()\n",
    "\n",
    "# Convert list to text table using the function\n",
    "text_table = list_to_text_table(data)\n",
    "\n",
    "print(text_table)"
   ]
  },
  {
   "cell_type": "code",
   "execution_count": null,
   "metadata": {},
   "outputs": [],
   "source": [
    "# Write the data to a CSV file\n",
    "csv_filename = \"../../geospatial_data/ls_project2/123.csv\"\n",
    "with open(csv_filename, mode='w', newline='') as file:\n",
    "    writer = csv.writer(file)\n",
    "    writer.writerow([\"Category\"])\n",
    "    for item in data:\n",
    "        writer.writerow([item])\n",
    "\n",
    "print(f\"Data has been exported to {csv_filename}\")"
   ]
  }
 ],
 "metadata": {
  "kernelspec": {
   "display_name": "geolab",
   "language": "python",
   "name": "python3"
  },
  "language_info": {
   "codemirror_mode": {
    "name": "ipython",
    "version": 3
   },
   "file_extension": ".py",
   "mimetype": "text/x-python",
   "name": "python",
   "nbconvert_exporter": "python",
   "pygments_lexer": "ipython3",
   "version": "3.9.19"
  }
 },
 "nbformat": 4,
 "nbformat_minor": 2
}
