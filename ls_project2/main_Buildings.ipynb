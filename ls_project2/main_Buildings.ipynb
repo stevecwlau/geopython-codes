{
 "cells": [
  {
   "cell_type": "code",
   "execution_count": 1,
   "metadata": {},
   "outputs": [],
   "source": [
    "import pandas as pd\n",
    "import geopandas as gpd\n",
    "from sqlalchemy import create_engine,text \n",
    "import leafmap"
   ]
  },
  {
   "cell_type": "markdown",
   "metadata": {},
   "source": [
    "# Download data from CSDI Portal"
   ]
  },
  {
   "cell_type": "code",
   "execution_count": null,
   "metadata": {},
   "outputs": [],
   "source": [
    "from fgdbDL import download_and_extract_gdb \n",
    "\n",
    "url = \"https://static.csdi.gov.hk/csdi-webpage/download/51d63757e2675874af80eef94afb6a35/fgdb\"\n",
    "\n",
    "#storage_path = \"/home/steeb/Documents/GIS/\"\n",
    "storage_path = r\"C:\\Users\\Steve_Lau\\Desktop\\LS Training\\ls_project1\"\n",
    "\n",
    "download_and_extract_gdb(url, storage_path)"
   ]
  },
  {
   "cell_type": "code",
   "execution_count": null,
   "metadata": {},
   "outputs": [],
   "source": [
    "from shpDL import download_and_extract_shp\n",
    "\n",
    "url = 'https://static.csdi.gov.hk/csdi-webpage/download/0e55c533715b5da3ae0ca6e6024e90b4/shp'\n",
    "\n",
    "storage_path = \"/home/steeb/Documents/GIS/\"\n",
    "#storage_path = r\"C:\\Users\\Steve_Lau\\Desktop\\LS Training\\ls_project1\"\n",
    "\n",
    "download_and_extract_shp(url, storage_path)"
   ]
  },
  {
   "cell_type": "markdown",
   "metadata": {},
   "source": [
    "# Set up paths and layers + db connection parameters"
   ]
  },
  {
   "cell_type": "code",
   "execution_count": 2,
   "metadata": {},
   "outputs": [],
   "source": [
    "# Define the paths and layer name (comment out either one gdb_path when not in use)\n",
    "#gdb_path = \"/home/steeb/Documents/GIS/20240509/Building_Footprint.gdb\"\n",
    "gdb_path = r\"C:\\Users\\Steve_Lau\\Desktop\\LS Training\\ls_project1\\Building_Footprint.gdb\"\n",
    "\n",
    "#shp_file = \"/home/steeb/Documents/GIS/BDBIAR.shp\"\n",
    "shp_file = r\"C:\\Users\\Steve_Lau\\Desktop\\LS Training\\ls_project1\\BDBIAR.shp\"\n",
    "\n",
    "# Define the db connection parameters\n",
    "username = \"postgres\"\n",
    "password = \"12345\"\n",
    "host = \"localhost\"\n",
    "dbname = \"Buildings\"\n",
    "port = \"5432\"\n",
    "\n",
    "pg_connection = f\"PG:host={host} port={port} dbname={dbname} user={username} password={password}\"\n",
    "engine = create_engine(f\"postgresql://{username}:{password}@{host}:{port}/{dbname}\")"
   ]
  },
  {
   "cell_type": "markdown",
   "metadata": {},
   "source": [
    "# Import into a PostgreSQL database using ogr2ogr"
   ]
  },
  {
   "cell_type": "code",
   "execution_count": null,
   "metadata": {},
   "outputs": [],
   "source": [
    "# Imports a GDB into a PostgreSQL database using ogr2ogr\n",
    "from gdb2pgsql import transfer_gdb_to_postgis\n",
    "\n",
    "transfer_gdb_to_postgis(gdb_path, pg_connection)"
   ]
  },
  {
   "cell_type": "code",
   "execution_count": null,
   "metadata": {},
   "outputs": [],
   "source": [
    "# Imports a SHP into a PostgreSQL database using ogr2ogr\n",
    "from shp2pgsql import import_shapefile_to_postgresql\n",
    "\n",
    "import_shapefile_to_postgresql(shp_file, pg_connection)"
   ]
  },
  {
   "cell_type": "code",
   "execution_count": null,
   "metadata": {},
   "outputs": [],
   "source": [
    "from gdbList import list_layers_with_types\n",
    "\n",
    "list_layers_with_types(gdb_path)"
   ]
  },
  {
   "cell_type": "markdown",
   "metadata": {},
   "source": [
    "# Read data from PostgreSQL database into dataframes"
   ]
  },
  {
   "cell_type": "code",
   "execution_count": 3,
   "metadata": {},
   "outputs": [],
   "source": [
    "table_op = \"OCCUPATION_PERMIT\"\n",
    "table_op_blgstr = \"OP_BUILDING_STRUCTURE\"\n",
    "table_blgstr = \"BUILDING_STRUCTURE\"\n",
    "table_blgcat = \"CT_BUILDING_CATEGORY\"\n",
    "table_bdbiar = \"BDBIAR\"\n",
    "\n",
    "sql_op = text(f\"SELECT * FROM {table_op}\")\n",
    "sql_op_blgstr = text(f\"SELECT * FROM {table_op_blgstr}\")\n",
    "sql_blstr = text(f\"SELECT * FROM {table_blgstr}\")\n",
    "sql_blgcat = text(f\"SELECT * FROM {table_blgcat}\")\n",
    "sql_bdbiar = text(f\"SELECT * FROM {table_bdbiar}\")"
   ]
  },
  {
   "cell_type": "code",
   "execution_count": 4,
   "metadata": {},
   "outputs": [],
   "source": [
    "# Read the tables into DataFrames\n",
    "df_op = pd.read_sql(sql_op, con=engine.connect())\n",
    "df_op_blgstr = pd.read_sql(sql_op_blgstr, con=engine.connect())\n",
    "df_blgcat = pd.read_sql(sql_blgcat, con=engine.connect())\n",
    "\n",
    "# Read the tables with geometry into DataFrames\n",
    "gdf_blgstr = gpd.read_postgis(sql_blstr, con=engine.connect(), geom_col=\"shape\") \n",
    "gdf_bdbiar = gpd.read_postgis(sql_bdbiar, con=engine.connect(), geom_col=\"wkb_geometry\") "
   ]
  },
  {
   "cell_type": "code",
   "execution_count": 5,
   "metadata": {},
   "outputs": [],
   "source": [
    "# Select only the \"opno\" and \"opdate\" columns from df_op\n",
    "df_op_subset = df_op[[\"opno\", \"opdate\"]]\n",
    "\n",
    "df_op_subset.opdate = pd.to_datetime(df_op_subset[\"opdate\"], utc=True)\n",
    "\n",
    "# Merge df_op_blgstr with the subset of df_op on the \"opno\" column\n",
    "df_merge_op_blgstr = pd.merge(df_op_blgstr,\n",
    "                            df_op_subset,\n",
    "                            on=\"opno\",\n",
    "                            how=\"right\")"
   ]
  },
  {
   "cell_type": "code",
   "execution_count": 9,
   "metadata": {},
   "outputs": [],
   "source": [
    "# Select only the \"buildingstructureid\" and \"opdate\" columns from df_merge_op_blgstr\n",
    "df_merge_op_blgstr_subset = df_merge_op_blgstr[[\"buildingstructureid\", \"opno\", \"opdate\"]]\n",
    "\n",
    "# Merge gdf_blgstr with the subset of df_merge_op_blgstr on the \"buildingstructureid\" column\n",
    "gdf_merge_blgstr = pd.merge(gdf_blgstr,\n",
    "                df_merge_op_blgstr_subset,\n",
    "                on=\"buildingstructureid\", how=\"left\")"
   ]
  },
  {
   "cell_type": "code",
   "execution_count": 10,
   "metadata": {},
   "outputs": [],
   "source": [
    "# Select only the \"buildingstructureid\" and \"opdate\" columns from df_merge_op_blgstr\n",
    "df_blgcat_subset = df_blgcat[[\"code\",\n",
    "                              \"description\",\n",
    "                              \"note\"]]\n",
    "\n",
    "df_blgcat_subset = df_blgcat_subset.rename(columns={\"code\": \"category\",\n",
    "                                 \"description\": \"catdesc\",\n",
    "                                 \"note\": \"catnote\"})\n",
    "\n",
    "gdf_merge_blgstr.category = gdf_merge_blgstr.category.astype(\"object\").astype(\"int64\")\n",
    "\n",
    "# Merge gdf_blgstr with the subset of df_merge_op_blgstr on the \"buildingstructureid\" column\n",
    "gdf_merge_blgstr = pd.merge(gdf_merge_blgstr,\n",
    "                df_blgcat_subset,\n",
    "                on=\"category\", how=\"left\")"
   ]
  },
  {
   "cell_type": "code",
   "execution_count": 11,
   "metadata": {},
   "outputs": [],
   "source": [
    "today = pd.to_datetime('today', utc=True).normalize()\n",
    "\n",
    "gdf_merge_blgstr[\"calcdate\"] = today"
   ]
  },
  {
   "cell_type": "code",
   "execution_count": 17,
   "metadata": {},
   "outputs": [],
   "source": [
    "gdf_merge_blgstr['age'] = (gdf_merge_blgstr[\"calcdate\"] - gdf_merge_blgstr[\"opdate\"]) / pd.Timedelta(days=365)"
   ]
  },
  {
   "cell_type": "code",
   "execution_count": 19,
   "metadata": {},
   "outputs": [],
   "source": [
    "# Keep only relevant columns\n",
    "gdf_merge_blgstr = gdf_merge_blgstr.loc[:, (\"buildingstructureid\",\n",
    "                    \"buildingcsuid\",\n",
    "                    \"buildingstructuretype\",\n",
    "                    \"catdesc\",\n",
    "                    \"catnote\",\n",
    "                    \"status\",\n",
    "                    \"officialbuildingnameen\",\n",
    "                    \"officialbuildingnametc\",\n",
    "                    \"numabovegroundstoreys\",\n",
    "                    \"numbasementstoreys\",\n",
    "                    \"topheight\",\n",
    "                    \"baseheight\",\n",
    "                    \"opno\",\n",
    "                    \"opdate\",\n",
    "                    \"age\",\n",
    "                    \"shape\")]"
   ]
  },
  {
   "cell_type": "markdown",
   "metadata": {},
   "source": [
    "# Filter Building structure and Building age by \"Tower\" type"
   ]
  },
  {
   "cell_type": "code",
   "execution_count": 27,
   "metadata": {},
   "outputs": [],
   "source": [
    "gdf_blgstr_tower = gdf_merge_blgstr[gdf_merge_blgstr.buildingstructuretype == \"T\"]\n",
    "gdf_bdbiar_tower = gdf_bdbiar[gdf_bdbiar.nsearch4_e == \"Tower\"]"
   ]
  },
  {
   "cell_type": "code",
   "execution_count": 28,
   "metadata": {},
   "outputs": [],
   "source": [
    "gdf_bdbiar_tower.to_crs(epsg=2326, inplace=True)"
   ]
  },
  {
   "cell_type": "code",
   "execution_count": 29,
   "metadata": {},
   "outputs": [],
   "source": [
    "gdf_sjoin_blgstr = gpd.sjoin(gdf_blgstr_tower, gdf_bdbiar_tower, how=\"left\")"
   ]
  },
  {
   "cell_type": "code",
   "execution_count": 30,
   "metadata": {},
   "outputs": [
    {
     "name": "stdout",
     "output_type": "stream",
     "text": [
      "<class 'geopandas.geodataframe.GeoDataFrame'>\n",
      "Index: 333157 entries, 0 to 340950\n",
      "Data columns (total 38 columns):\n",
      " #   Column                  Non-Null Count   Dtype              \n",
      "---  ------                  --------------   -----              \n",
      " 0   buildingstructureid     333157 non-null  int64              \n",
      " 1   buildingcsuid           333157 non-null  object             \n",
      " 2   buildingstructuretype   333157 non-null  object             \n",
      " 3   catdesc                 333157 non-null  object             \n",
      " 4   catnote                 333157 non-null  object             \n",
      " 5   status                  333157 non-null  object             \n",
      " 6   officialbuildingnameen  59893 non-null   object             \n",
      " 7   officialbuildingnametc  59348 non-null   object             \n",
      " 8   numabovegroundstoreys   41884 non-null   float64            \n",
      " 9   numbasementstoreys      3934 non-null    float64            \n",
      " 10  topheight               177236 non-null  float64            \n",
      " 11  baseheight              0 non-null       object             \n",
      " 12  opno                    35864 non-null   object             \n",
      " 13  opdate                  35864 non-null   datetime64[ns, UTC]\n",
      " 14  age                     35864 non-null   float64            \n",
      " 15  shape                   333157 non-null  geometry           \n",
      " 16  index_right             42094 non-null   float64            \n",
      " 17  ogc_fid                 42094 non-null   float64            \n",
      " 18  dataset_e               42094 non-null   object             \n",
      " 19  dataset_c               42094 non-null   object             \n",
      " 20  address_e               42094 non-null   object             \n",
      " 21  address_c               42084 non-null   object             \n",
      " 22  search1_e               42094 non-null   object             \n",
      " 23  search1_c               42094 non-null   object             \n",
      " 24  search2_e               42094 non-null   object             \n",
      " 25  search2_c               42094 non-null   object             \n",
      " 26  nsearch1_e              42094 non-null   float64            \n",
      " 27  nsearch1_c              42094 non-null   float64            \n",
      " 28  nsearch2_e              42094 non-null   object             \n",
      " 29  nsearch2_c              42094 non-null   object             \n",
      " 30  nsearch3_e              41344 non-null   object             \n",
      " 31  nsearch3_c              41344 non-null   object             \n",
      " 32  nsearch4_e              42094 non-null   object             \n",
      " 33  nsearch4_c              42094 non-null   object             \n",
      " 34  nsearch5_e              42094 non-null   object             \n",
      " 35  nsearch5_c              42094 non-null   object             \n",
      " 36  latitude                42094 non-null   float64            \n",
      " 37  longitude               42094 non-null   float64            \n",
      "dtypes: datetime64[ns, UTC](1), float64(10), geometry(1), int64(1), object(25)\n",
      "memory usage: 99.1+ MB\n"
     ]
    }
   ],
   "source": [
    "gdf_sjoin_blgstr.info()"
   ]
  },
  {
   "cell_type": "code",
   "execution_count": 31,
   "metadata": {},
   "outputs": [],
   "source": [
    "# Keep only relevant columns\n",
    "gdf_sjoin_blgstr = gdf_sjoin_blgstr.loc[:, (\"buildingstructureid\",\n",
    "                    \"buildingcsuid\",\n",
    "                    \"buildingstructuretype\",\n",
    "                    \"catdesc\",\n",
    "                    \"catnote\",\n",
    "                    \"status\",\n",
    "                    \"officialbuildingnameen\",\n",
    "                    \"officialbuildingnametc\",\n",
    "                    \"numabovegroundstoreys\",\n",
    "                    \"numbasementstoreys\",\n",
    "                    \"topheight\",\n",
    "                    \"baseheight\",\n",
    "                    \"opno\",\n",
    "                    \"opdate\",\n",
    "                    \"age\",\n",
    "                    \"address_e\",\n",
    "                    \"address_c\",\n",
    "                    \"search1_e\",\n",
    "                    \"search1_c\",\n",
    "                    \"search2_e\",\n",
    "                    \"search2_c\",\n",
    "                    \"nsearch2_e\",\n",
    "                    \"nsearch2_c\",\n",
    "                    \"nsearch3_e\",\n",
    "                    \"nsearch3_c\",\n",
    "                    \"nsearch4_e\",\n",
    "                    \"nsearch4_c\",\n",
    "                    \"nsearch5_e\",\n",
    "                    \"nsearch5_c\",\n",
    "                    \"shape\"\n",
    "                    )]"
   ]
  },
  {
   "cell_type": "code",
   "execution_count": 32,
   "metadata": {},
   "outputs": [],
   "source": [
    "gdf_sjoin_blgstr.to_postgis(\"gdf_sjoin_blgstr\", engine, if_exists=\"replace\")"
   ]
  },
  {
   "cell_type": "code",
   "execution_count": 37,
   "metadata": {},
   "outputs": [
    {
     "data": {
      "text/plain": [
       "nsearch5_e\n",
       "Residential/Composite    34694\n",
       "Others                    3149\n",
       "Office/Commercial         2516\n",
       "Industrial                1735\n",
       "Name: count, dtype: int64"
      ]
     },
     "execution_count": 37,
     "metadata": {},
     "output_type": "execute_result"
    }
   ],
   "source": [
    "gdf_sjoin_blgstr.nsearch5_e.value_counts()"
   ]
  },
  {
   "cell_type": "code",
   "execution_count": null,
   "metadata": {},
   "outputs": [],
   "source": []
  }
 ],
 "metadata": {
  "kernelspec": {
   "display_name": "geolab",
   "language": "python",
   "name": "python3"
  },
  "language_info": {
   "codemirror_mode": {
    "name": "ipython",
    "version": 3
   },
   "file_extension": ".py",
   "mimetype": "text/x-python",
   "name": "python",
   "nbconvert_exporter": "python",
   "pygments_lexer": "ipython3",
   "version": "3.9.undefined"
  }
 },
 "nbformat": 4,
 "nbformat_minor": 2
}
