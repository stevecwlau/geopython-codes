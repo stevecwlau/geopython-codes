{
 "cells": [
  {
   "cell_type": "code",
   "execution_count": 1,
   "metadata": {},
   "outputs": [],
   "source": [
    "# Imports essential libraries for data manipulation (pandas), spatial data processing (geopandas), database connection (sqlalchemy), and mapping (leafmap).\n",
    "\n",
    "import pandas as pd\n",
    "import geopandas as gpd\n",
    "from sqlalchemy import create_engine,text \n",
    "import leafmap"
   ]
  },
  {
   "cell_type": "markdown",
   "metadata": {},
   "source": [
    "# Set up DB connection parameters within PostGIS"
   ]
  },
  {
   "cell_type": "code",
   "execution_count": 2,
   "metadata": {},
   "outputs": [],
   "source": [
    "# Define the db connection parameters\n",
    "username = \"postgres\"\n",
    "password = \"12345\"\n",
    "host = \"localhost\"\n",
    "dbname = \"Buildings\"\n",
    "port = \"5432\"\n",
    "\n",
    "pg_connection = f\"PG:host={host} port={port} dbname={dbname} user={username} password={password}\"\n",
    "engine = create_engine(f\"postgresql://{username}:{password}@{host}:{port}/{dbname}\")"
   ]
  },
  {
   "cell_type": "markdown",
   "metadata": {},
   "source": [
    "# Download data from CSDI Portal"
   ]
  },
  {
   "cell_type": "code",
   "execution_count": null,
   "metadata": {},
   "outputs": [],
   "source": [
    "# Download gdb from CSDI Portal\n",
    "\n",
    "from fgdbDL import download_and_extract_gdb \n",
    "\n",
    "url = \"https://static.csdi.gov.hk/csdi-webpage/download/51d63757e2675874af80eef94afb6a35/fgdb\"\n",
    "\n",
    "#storage_path = \"/home/steeb/Documents/GIS/\"\n",
    "storage_path = r\"C:\\Users\\Steve_Lau\\Desktop\\LS Training\\ls_project1\"\n",
    "\n",
    "download_and_extract_gdb(url, storage_path)"
   ]
  },
  {
   "cell_type": "code",
   "execution_count": null,
   "metadata": {},
   "outputs": [],
   "source": [
    "# Download shp from CSDI Portal\n",
    "\n",
    "from shpDL import download_and_extract_shp\n",
    "\n",
    "url = 'https://static.csdi.gov.hk/csdi-webpage/download/0e55c533715b5da3ae0ca6e6024e90b4/shp'\n",
    "\n",
    "storage_path = \"/home/steeb/Documents/GIS/\"\n",
    "#storage_path = r\"C:\\Users\\Steve_Lau\\Desktop\\LS Training\\ls_project1\"\n",
    "\n",
    "download_and_extract_shp(url, storage_path)"
   ]
  },
  {
   "cell_type": "code",
   "execution_count": null,
   "metadata": {},
   "outputs": [],
   "source": [
    "# Compile OZP data from CSDI Portal using WFS\n",
    "\n",
    "from ozp2pgsql import fetch_and_process_wfs_data\n",
    "\n",
    "wfs_url = 'https://www.ozp.tpb.gov.hk/arcgis/services/DATA/OZP_PLAN_CSDI/MapServer/WFSServer?request=GetCapabilities&service=WFS'\n",
    "download_dir = r\"C:\\Users\\Steve_Lau\\Downloads\\ozp\"\n",
    "postgis_conn_string = f\"postgresql://{username}:{password}@{host}:{port}/{dbname}\"\n",
    "\n",
    "fetch_and_process_wfs_data(wfs_url, download_dir, postgis_conn_string)"
   ]
  },
  {
   "cell_type": "markdown",
   "metadata": {},
   "source": [
    "# Set up paths and layers"
   ]
  },
  {
   "cell_type": "code",
   "execution_count": 3,
   "metadata": {},
   "outputs": [],
   "source": [
    "# Define the paths and layer name (comment out either one gdb_path when not in use)\n",
    "\n",
    "# Building Footprint database\n",
    "#blg_gdb_path = \"/home/steeb/Documents/GIS/20240509/Building_Footprint.gdb\"\n",
    "blg_gdb_path = r\"C:\\Users\\Steve_Lau\\Desktop\\LS Training\\ls_project1\\Building_Footprint.gdb\"\n",
    "\n",
    "# Lot database\n",
    "#lot_gdb_path = \"/home/steeb/Documents/GIS/LandParcel_Lot.gdb\"\n",
    "lot_gdb_path = r\"C:\\Users\\Steve_Lau\\Desktop\\LS Training\\ls_project1\\LandParcel_Lot.gdb\"\n",
    "\n",
    "# Building information and age records\n",
    "#bdbiar_shp_path = \"/home/steeb/Documents/GIS/BDBIAR.shp\"\n",
    "bdbiar_shp_path = r\"C:\\Users\\Steve_Lau\\Desktop\\LS Training\\ls_project1\\BDBIAR.shp\""
   ]
  },
  {
   "cell_type": "markdown",
   "metadata": {},
   "source": [
    "# Import into a PostgreSQL database using ogr2ogr"
   ]
  },
  {
   "cell_type": "code",
   "execution_count": null,
   "metadata": {},
   "outputs": [],
   "source": [
    "# Imports Building Footprint GDB into a PostgreSQL database using ogr2ogr\n",
    "from gdb2pgsql import transfer_gdb_to_postgis\n",
    "\n",
    "transfer_gdb_to_postgis(blg_gdb_path, pg_connection)"
   ]
  },
  {
   "cell_type": "code",
   "execution_count": null,
   "metadata": {},
   "outputs": [],
   "source": [
    "# Imports Lot GDB into a PostgreSQL database using ogr2ogr\n",
    "from gdb2pgsql import transfer_gdb_to_postgis\n",
    "\n",
    "transfer_gdb_to_postgis(lot_gdb_path, pg_connection)"
   ]
  },
  {
   "cell_type": "code",
   "execution_count": null,
   "metadata": {},
   "outputs": [],
   "source": [
    "# Imports Building information and age records SHP into a PostgreSQL database using ogr2ogr\n",
    "from shp2pgsql import import_shapefile_to_postgresql\n",
    "\n",
    "import_shapefile_to_postgresql(bdbiar_shp_path, pg_connection)"
   ]
  },
  {
   "cell_type": "code",
   "execution_count": null,
   "metadata": {},
   "outputs": [],
   "source": [
    "# Replace variable with GDB path to inspect available layers within the specified GDB\n",
    "\n",
    "from gdbList import list_layers_with_types\n",
    "\n",
    "list_layers_with_types(lot_gdb_path)"
   ]
  },
  {
   "cell_type": "markdown",
   "metadata": {},
   "source": [
    "# Read data from PostgreSQL database into dataframes"
   ]
  },
  {
   "cell_type": "code",
   "execution_count": 4,
   "metadata": {},
   "outputs": [],
   "source": [
    "table_op = \"OCCUPATION_PERMIT\"\n",
    "table_op_blgstr = \"OP_BUILDING_STRUCTURE\"\n",
    "table_blgstr = \"BUILDING_STRUCTURE\"\n",
    "table_blgcat = \"CT_BUILDING_CATEGORY\"\n",
    "table_bdbiar = \"BDBIAR\"\n",
    "table_gdf_merged_ozp = \"gdf_merged_ozp\"\n",
    "\n",
    "sql_op = text(f\"SELECT * FROM {table_op}\")\n",
    "sql_op_blgstr = text(f\"SELECT * FROM {table_op_blgstr}\")\n",
    "sql_blstr = text(f\"SELECT * FROM {table_blgstr}\")\n",
    "sql_blgcat = text(f\"SELECT * FROM {table_blgcat}\")\n",
    "sql_bdbiar = text(f\"SELECT * FROM {table_bdbiar}\")\n",
    "sql_gdf_merged_ozp = text(f\"SELECT * FROM {table_gdf_merged_ozp}\")\n"
   ]
  },
  {
   "cell_type": "code",
   "execution_count": 5,
   "metadata": {},
   "outputs": [],
   "source": [
    "# Read the tables into DataFrames\n",
    "df_op = pd.read_sql(sql_op, con=engine.connect())\n",
    "df_op_blgstr = pd.read_sql(sql_op_blgstr, con=engine.connect())\n",
    "df_blgcat = pd.read_sql(sql_blgcat, con=engine.connect())\n",
    "\n",
    "# Read the tables with geometry into DataFrames\n",
    "gdf_blgstr = gpd.read_postgis(sql_blstr, con=engine.connect(), geom_col=\"shape\") \n",
    "gdf_bdbiar = gpd.read_postgis(sql_bdbiar, con=engine.connect(), geom_col=\"wkb_geometry\")\n",
    "gdf_merged_ozp = gpd.read_postgis(sql_gdf_merged_ozp, con=engine.connect(), geom_col=\"geometry\")"
   ]
  },
  {
   "cell_type": "code",
   "execution_count": 6,
   "metadata": {},
   "outputs": [],
   "source": [
    "# Define the remapping dictionary\n",
    "remap_dict = {\n",
    "    'Agriculture(1)': 'Agriculture', \n",
    "    'Commercial / Residential(1)': 'Commercial / Residential', \n",
    "    'Commercial / Residential(2)': 'Commercial / Residential', \n",
    "    'Commercial / Residential(3)': 'Commercial / Residential', \n",
    "    'Commercial / Residential(4)': 'Commercial / Residential', \n",
    "    'Commercial(1)': 'Commercial', \n",
    "    'Commercial(2)': 'Commercial', \n",
    "    'Commercial(3)': 'Commercial', \n",
    "    'Commercial(4)': 'Commercial', \n",
    "    'Commercial(5)': 'Commercial', \n",
    "    'Commercial(6)': 'Commercial', \n",
    "    'Commercial(7)': 'Commercial', \n",
    "    'Commercial(8)': 'Commercial', \n",
    "    'Commercial(9)': 'Commercial',\n",
    "    'Commercial (3)': 'Commercial',\n",
    "    'Commercial (4)': 'Commercial',\n",
    "    'Commercial (1)': 'Commercial',\n",
    "    'Commercial (2)': 'Commercial',\n",
    "    'Commercial(11)': 'Commercial',\n",
    "    'Commercial(10)': 'Commercial',\n",
    "    'Comprehensive Development Area(1)': 'Comprehensive Development Area', \n",
    "    'Comprehensive Development Area(2)': 'Comprehensive Development Area', \n",
    "    'Comprehensive Development Area(3)': 'Comprehensive Development Area', \n",
    "    'Comprehensive Development Area(4)': 'Comprehensive Development Area', \n",
    "    'Comprehensive Development Area(5)': 'Comprehensive Development Area', \n",
    "    'Comprehensive Development Area(6)': 'Comprehensive Development Area', \n",
    "    'Conservation Area(1)': 'Conservation Area', \n",
    "    'Government, Institution or Community(1)': 'Government, Institution or Community', \n",
    "    'Government, Institution or Community(10)': 'Government, Institution or Community', \n",
    "    'Government, Institution or Community(2)': 'Government, Institution or Community', \n",
    "    'Government, Institution or Community(3)': 'Government, Institution or Community', \n",
    "    'Government, Institution or Community(4)': 'Government, Institution or Community', \n",
    "    'Government, Institution or Community(5)': 'Government, Institution or Community', \n",
    "    'Government, Institution or Community(6)': 'Government, Institution or Community', \n",
    "    'Government, Institution or Community(7)': 'Government, Institution or Community', \n",
    "    'Government, Institution or Community(8)': 'Government, Institution or Community', \n",
    "    'Government, Institution or Community(9)': 'Government, Institution or Community',\n",
    "    'Government, Institution or Community (1)': 'Government, Institution or Community',\n",
    "    'Government, Institution or Community(13)': 'Government, Institution or Community',\n",
    "    'Government, Institution or Community(12)': 'Government, Institution or Community',\n",
    "    'Government, Institution or Community(11)': 'Government, Institution or Community',\n",
    "    'Green Belt(1)': 'Green Belt', \n",
    "    'Green Belt(2)': 'Green Belt', \n",
    "    'Industrial(1)': 'Industrial', \n",
    "    'Industrial(2)': 'Industrial', \n",
    "    'Industrial(3)': 'Industrial', \n",
    "    'Open Space(1)': 'Open Space', \n",
    "    'Open Space(2)': 'Open Space', \n",
    "    'Open Space(3)': 'Open Space', \n",
    "    'Other Specified Uses(1)': 'Other Specified Uses', \n",
    "    'Other Specified Uses(2)': 'Other Specified Uses', \n",
    "    'Other Specified Uses(3)': 'Other Specified Uses', \n",
    "    'Other Specified Uses(4)': 'Other Specified Uses', \n",
    "    'Other Specified Uses(5)': 'Other Specified Uses', \n",
    "    'Other Specified Uses(6)': 'Other Specified Uses', \n",
    "    'Residential (Group A)1': 'Residential (Group A)', \n",
    "    'Residential (Group A)10': 'Residential (Group A)', \n",
    "    'Residential (Group A)11': 'Residential (Group A)', \n",
    "    'Residential (Group A)12': 'Residential (Group A)', \n",
    "    'Residential (Group A)13': 'Residential (Group A)', \n",
    "    'Residential (Group A)14': 'Residential (Group A)', \n",
    "    'Residential (Group A)15': 'Residential (Group A)', \n",
    "    'Residential (Group A)16': 'Residential (Group A)', \n",
    "    'Residential (Group A)17': 'Residential (Group A)', \n",
    "    'Residential (Group A)18': 'Residential (Group A)', \n",
    "    'Residential (Group A)19': 'Residential (Group A)', \n",
    "    'Residential (Group A)2': 'Residential (Group A)', \n",
    "    'Residential (Group A)20': 'Residential (Group A)', \n",
    "    'Residential (Group A)21': 'Residential (Group A)', \n",
    "    'Residential (Group A)22': 'Residential (Group A)', \n",
    "    'Residential (Group A)23': 'Residential (Group A)', \n",
    "    'Residential (Group A)24': 'Residential (Group A)', \n",
    "    'Residential (Group A)25': 'Residential (Group A)', \n",
    "    'Residential (Group A)26': 'Residential (Group A)', \n",
    "    'Residential (Group A)3': 'Residential (Group A)', \n",
    "    'Residential (Group A)4': 'Residential (Group A)', \n",
    "    'Residential (Group A)5': 'Residential (Group A)', \n",
    "    'Residential (Group A)6': 'Residential (Group A)', \n",
    "    'Residential (Group A)7': 'Residential (Group A)', \n",
    "    'Residential (Group A)8': 'Residential (Group A)', \n",
    "    'Residential (Group A)9': 'Residential (Group A)', \n",
    "    'Residential (Group B)1': 'Residential (Group B)', \n",
    "    'Residential (Group B)10': 'Residential (Group B)', \n",
    "    'Residential (Group B)11': 'Residential (Group B)', \n",
    "    'Residential (Group B)12': 'Residential (Group B)', \n",
    "    'Residential (Group B)14': 'Residential (Group B)', \n",
    "    'Residential (Group B)16': 'Residential (Group B)', \n",
    "    'Residential (Group B)17': 'Residential (Group B)', \n",
    "    'Residential (Group B)19': 'Residential (Group B)', \n",
    "    'Residential (Group B)2': 'Residential (Group B)', \n",
    "    'Residential (Group B)3': 'Residential (Group B)', \n",
    "    'Residential (Group B)4': 'Residential (Group B)', \n",
    "    'Residential (Group B)5': 'Residential (Group B)', \n",
    "    'Residential (Group B)6': 'Residential (Group B)', \n",
    "    'Residential (Group B)7': 'Residential (Group B)', \n",
    "    'Residential (Group B)8': 'Residential (Group B)', \n",
    "    'Residential (Group B)20': 'Residential (Group B)',\n",
    "    'Residential (Group B)15': 'Residential (Group B)',\n",
    "    'Residential (Group A)27': 'Residential (Group B)',\n",
    "    'Residential (Group A)28': 'Residential (Group B)',\n",
    "    'Residential (Group B)13': 'Residential (Group B)',\n",
    "    'Residential (Group B)9': 'Residential (Group B)',\n",
    "    'Residential (Group B)18': 'Residential (Group B)',\n",
    "    'Residential (Group C)1': 'Residential (Group C)', \n",
    "    'Residential (Group C)10': 'Residential (Group C)', \n",
    "    'Residential (Group C)11': 'Residential (Group C)', \n",
    "    'Residential (Group C)12': 'Residential (Group C)', \n",
    "    'Residential (Group C)13': 'Residential (Group C)', \n",
    "    'Residential (Group C)14': 'Residential (Group C)', \n",
    "    'Residential (Group C)15': 'Residential (Group C)', \n",
    "    'Residential (Group C)2': 'Residential (Group C)', \n",
    "    'Residential (Group C)3': 'Residential (Group C)', \n",
    "    'Residential (Group C)4': 'Residential (Group C)', \n",
    "    'Residential (Group C)5': 'Residential (Group C)', \n",
    "    'Residential (Group C)6': 'Residential (Group C)', \n",
    "    'Residential (Group C)7': 'Residential (Group C)', \n",
    "    'Residential (Group C)8': 'Residential (Group C)', \n",
    "    'Residential (Group C)9': 'Residential (Group C)', \n",
    "    'Residential (Group D)1': 'Residential (Group D)', \n",
    "    'Residential (Group E)1': 'Residential (Group E)', \n",
    "    'Residential (Group E)2': 'Residential (Group E)', \n",
    "    'Village Type Development(1)': 'Village Type Development',\n",
    "    'Recreation(1)': 'Recreation',\n",
    "    'Site of Special Scientific Interest(1)': 'Site of Special Scientific Interest',\n",
    "    'Comprehensive Development Area (2)': 'Comprehensive Development Area',\n",
    "    'Coastal Protection Area(1)': 'Coastal Protection Area'\n",
    "}\n",
    "\n",
    "# Apply the remapping to the GeoDataFrame and keep unmapped values unchanged\n",
    "gdf_merged_ozp['DESC_ENG'] = gdf_merged_ozp['DESC_ENG'].map(remap_dict).fillna(gdf_merged_ozp['DESC_ENG'])"
   ]
  },
  {
   "cell_type": "code",
   "execution_count": 7,
   "metadata": {},
   "outputs": [
    {
     "ename": "NameError",
     "evalue": "name 'table_name' is not defined",
     "output_type": "error",
     "traceback": [
      "\u001b[1;31m---------------------------------------------------------------------------\u001b[0m",
      "\u001b[1;31mNameError\u001b[0m                                 Traceback (most recent call last)",
      "Cell \u001b[1;32mIn[7], line 1\u001b[0m\n\u001b[1;32m----> 1\u001b[0m gdf_merged_ozp\u001b[38;5;241m.\u001b[39mto_postgis(\u001b[43mtable_name\u001b[49m, engine, if_exists\u001b[38;5;241m=\u001b[39m\u001b[38;5;124m\"\u001b[39m\u001b[38;5;124mreplace\u001b[39m\u001b[38;5;124m\"\u001b[39m)\n",
      "\u001b[1;31mNameError\u001b[0m: name 'table_name' is not defined"
     ]
    }
   ],
   "source": [
    "gdf_merged_ozp.to_postgis(table_name, engine, if_exists=\"replace\")"
   ]
  },
  {
   "cell_type": "code",
   "execution_count": 8,
   "metadata": {},
   "outputs": [],
   "source": [
    "# Select only the \"opno\" and \"opdate\" columns from df_op\n",
    "df_op_subset = df_op[[\"opno\", \"opdate\"]]\n",
    "\n",
    "df_op_subset.opdate = pd.to_datetime(df_op_subset[\"opdate\"], utc=True)\n",
    "\n",
    "# Merge df_op_blgstr with the subset of df_op on the \"opno\" column\n",
    "df_merge_op_blgstr = pd.merge(df_op_blgstr,\n",
    "                            df_op_subset,\n",
    "                            on=\"opno\",\n",
    "                            how=\"right\")"
   ]
  },
  {
   "cell_type": "code",
   "execution_count": 9,
   "metadata": {},
   "outputs": [],
   "source": [
    "# Select only the \"buildingstructureid\" and \"opdate\" columns from df_merge_op_blgstr\n",
    "df_merge_op_blgstr_subset = df_merge_op_blgstr[[\"buildingstructureid\", \"opno\", \"opdate\"]]\n",
    "\n",
    "# Merge gdf_blgstr with the subset of df_merge_op_blgstr on the \"buildingstructureid\" column\n",
    "gdf_merge_blgstr = pd.merge(gdf_blgstr,\n",
    "                df_merge_op_blgstr_subset,\n",
    "                on=\"buildingstructureid\", how=\"left\")"
   ]
  },
  {
   "cell_type": "code",
   "execution_count": 10,
   "metadata": {},
   "outputs": [],
   "source": [
    "# Select only the \"buildingstructureid\" and \"opdate\" columns from df_merge_op_blgstr\n",
    "df_blgcat_subset = df_blgcat[[\"code\",\n",
    "                              \"description\",\n",
    "                              \"note\"]]\n",
    "\n",
    "df_blgcat_subset = df_blgcat_subset.rename(columns={\"code\": \"category\",\n",
    "                                 \"description\": \"catdesc\",\n",
    "                                 \"note\": \"catnote\"})\n",
    "\n",
    "gdf_merge_blgstr.category = gdf_merge_blgstr.category.astype(\"object\").astype(\"int64\")\n",
    "\n",
    "# Merge gdf_blgstr with the subset of df_merge_op_blgstr on the \"buildingstructureid\" column\n",
    "gdf_merge_blgstr = pd.merge(gdf_merge_blgstr,\n",
    "                df_blgcat_subset,\n",
    "                on=\"category\", how=\"left\")"
   ]
  },
  {
   "cell_type": "code",
   "execution_count": 11,
   "metadata": {},
   "outputs": [],
   "source": [
    "today = pd.to_datetime('today', utc=True).normalize()\n",
    "\n",
    "gdf_merge_blgstr[\"calcdate\"] = today"
   ]
  },
  {
   "cell_type": "code",
   "execution_count": 12,
   "metadata": {},
   "outputs": [],
   "source": [
    "gdf_merge_blgstr['age'] = (gdf_merge_blgstr[\"calcdate\"] - gdf_merge_blgstr[\"opdate\"]) / pd.Timedelta(days=365)"
   ]
  },
  {
   "cell_type": "code",
   "execution_count": 13,
   "metadata": {},
   "outputs": [],
   "source": [
    "# Keep only relevant columns\n",
    "gdf_merge_blgstr = gdf_merge_blgstr.loc[:, (\"buildingstructureid\",\n",
    "                    \"buildingcsuid\",\n",
    "                    \"buildingstructuretype\",\n",
    "                    \"catdesc\",\n",
    "                    \"catnote\",\n",
    "                    \"status\",\n",
    "                    \"officialbuildingnameen\",\n",
    "                    \"officialbuildingnametc\",\n",
    "                    \"numabovegroundstoreys\",\n",
    "                    \"numbasementstoreys\",\n",
    "                    \"topheight\",\n",
    "                    \"baseheight\",\n",
    "                    \"opno\",\n",
    "                    \"opdate\",\n",
    "                    \"age\",\n",
    "                    \"shape\")]"
   ]
  },
  {
   "cell_type": "markdown",
   "metadata": {},
   "source": [
    "# Filter Building structure and Building age by \"Tower\" type"
   ]
  },
  {
   "cell_type": "code",
   "execution_count": 14,
   "metadata": {},
   "outputs": [],
   "source": [
    "gdf_blgstr_tower = gdf_merge_blgstr[gdf_merge_blgstr.buildingstructuretype == \"T\"]\n",
    "gdf_bdbiar_tower = gdf_bdbiar[gdf_bdbiar.nsearch4_e == \"Tower\"]"
   ]
  },
  {
   "cell_type": "code",
   "execution_count": 15,
   "metadata": {},
   "outputs": [],
   "source": [
    "gdf_bdbiar_tower.to_crs(epsg=2326, inplace=True)"
   ]
  },
  {
   "cell_type": "code",
   "execution_count": 16,
   "metadata": {},
   "outputs": [],
   "source": [
    "gdf_sjoin_blgstr = gpd.sjoin(gdf_blgstr_tower, gdf_bdbiar_tower, how=\"left\")"
   ]
  },
  {
   "cell_type": "code",
   "execution_count": 17,
   "metadata": {},
   "outputs": [],
   "source": [
    "gdf_sjoin_blgstr = gpd.sjoin_nearest(gdf_blgstr_tower, gdf_bdbiar_tower, how=\"left\", max_distance=10)"
   ]
  },
  {
   "cell_type": "code",
   "execution_count": 18,
   "metadata": {},
   "outputs": [
    {
     "name": "stdout",
     "output_type": "stream",
     "text": [
      "<class 'geopandas.geodataframe.GeoDataFrame'>\n",
      "Index: 333263 entries, 0 to 340950\n",
      "Data columns (total 38 columns):\n",
      " #   Column                  Non-Null Count   Dtype              \n",
      "---  ------                  --------------   -----              \n",
      " 0   buildingstructureid     333263 non-null  int64              \n",
      " 1   buildingcsuid           333263 non-null  object             \n",
      " 2   buildingstructuretype   333263 non-null  object             \n",
      " 3   catdesc                 333263 non-null  object             \n",
      " 4   catnote                 333263 non-null  object             \n",
      " 5   status                  333263 non-null  object             \n",
      " 6   officialbuildingnameen  59955 non-null   object             \n",
      " 7   officialbuildingnametc  59410 non-null   object             \n",
      " 8   numabovegroundstoreys   41898 non-null   float64            \n",
      " 9   numbasementstoreys      3935 non-null    float64            \n",
      " 10  topheight               177260 non-null  float64            \n",
      " 11  baseheight              0 non-null       object             \n",
      " 12  opno                    35879 non-null   object             \n",
      " 13  opdate                  35879 non-null   datetime64[ns, UTC]\n",
      " 14  age                     35879 non-null   float64            \n",
      " 15  shape                   333263 non-null  geometry           \n",
      " 16  index_right             54938 non-null   float64            \n",
      " 17  ogc_fid                 54938 non-null   float64            \n",
      " 18  dataset_e               54938 non-null   object             \n",
      " 19  dataset_c               54938 non-null   object             \n",
      " 20  address_e               54938 non-null   object             \n",
      " 21  address_c               54928 non-null   object             \n",
      " 22  search1_e               54938 non-null   object             \n",
      " 23  search1_c               54938 non-null   object             \n",
      " 24  search2_e               54938 non-null   object             \n",
      " 25  search2_c               54938 non-null   object             \n",
      " 26  nsearch1_e              54938 non-null   float64            \n",
      " 27  nsearch1_c              54938 non-null   float64            \n",
      " 28  nsearch2_e              54938 non-null   object             \n",
      " 29  nsearch2_c              54938 non-null   object             \n",
      " 30  nsearch3_e              53716 non-null   object             \n",
      " 31  nsearch3_c              53716 non-null   object             \n",
      " 32  nsearch4_e              54938 non-null   object             \n",
      " 33  nsearch4_c              54938 non-null   object             \n",
      " 34  nsearch5_e              54938 non-null   object             \n",
      " 35  nsearch5_c              54938 non-null   object             \n",
      " 36  latitude                54938 non-null   float64            \n",
      " 37  longitude               54938 non-null   float64            \n",
      "dtypes: datetime64[ns, UTC](1), float64(10), geometry(1), int64(1), object(25)\n",
      "memory usage: 99.2+ MB\n"
     ]
    }
   ],
   "source": [
    "gdf_sjoin_blgstr.info()"
   ]
  },
  {
   "cell_type": "code",
   "execution_count": 19,
   "metadata": {},
   "outputs": [],
   "source": [
    "# Keep only relevant columns\n",
    "gdf_sjoin_blgstr = gdf_sjoin_blgstr.loc[:, (\"buildingstructureid\",\n",
    "                    \"buildingcsuid\",\n",
    "                    \"buildingstructuretype\",\n",
    "                    \"catdesc\",\n",
    "                    \"catnote\",\n",
    "                    \"status\",\n",
    "                    \"officialbuildingnameen\",\n",
    "                    \"officialbuildingnametc\",\n",
    "                    \"numabovegroundstoreys\",\n",
    "                    \"numbasementstoreys\",\n",
    "                    \"topheight\",\n",
    "                    \"baseheight\",\n",
    "                    \"opno\",\n",
    "                    \"opdate\",\n",
    "                    \"age\",\n",
    "                    \"address_e\",\n",
    "                    \"address_c\",\n",
    "                    \"search1_e\",\n",
    "                    \"search1_c\",\n",
    "                    \"search2_e\",\n",
    "                    \"search2_c\",\n",
    "                    \"nsearch2_e\",\n",
    "                    \"nsearch2_c\",\n",
    "                    \"nsearch3_e\",\n",
    "                    \"nsearch3_c\",\n",
    "                    \"nsearch4_e\",\n",
    "                    \"nsearch4_c\",\n",
    "                    \"nsearch5_e\",\n",
    "                    \"nsearch5_c\",\n",
    "                    \"shape\"\n",
    "                    )]"
   ]
  },
  {
   "cell_type": "code",
   "execution_count": 32,
   "metadata": {},
   "outputs": [
    {
     "data": {
      "text/plain": [
       "buildingstructureid       333263\n",
       "buildingcsuid             333263\n",
       "buildingstructuretype     333263\n",
       "catdesc                   333263\n",
       "catnote                   333263\n",
       "status                    333263\n",
       "officialbuildingnameen     59955\n",
       "officialbuildingnametc     59410\n",
       "numabovegroundstoreys      41898\n",
       "numbasementstoreys          3935\n",
       "topheight                 177260\n",
       "baseheight                     0\n",
       "opno                       35879\n",
       "opdate                     35879\n",
       "age                        35879\n",
       "address_e                  54938\n",
       "address_c                  54928\n",
       "search1_e                  54938\n",
       "search1_c                  54938\n",
       "search2_e                  54938\n",
       "search2_c                  54938\n",
       "nsearch2_e                 54938\n",
       "nsearch2_c                 54938\n",
       "nsearch3_e                 53716\n",
       "nsearch3_c                 53716\n",
       "nsearch4_e                 54938\n",
       "nsearch4_c                 54938\n",
       "nsearch5_e                 54938\n",
       "nsearch5_c                 54938\n",
       "shape                     333263\n",
       "dtype: int64"
      ]
     },
     "execution_count": 32,
     "metadata": {},
     "output_type": "execute_result"
    }
   ],
   "source": [
    "gdf_sjoin_blgstr.count()"
   ]
  },
  {
   "cell_type": "code",
   "execution_count": 47,
   "metadata": {},
   "outputs": [
    {
     "name": "stdout",
     "output_type": "stream",
     "text": [
      "Count of records with values in opdate but not in nsearch3_e: 2552\n",
      "Count of records with values in nsearch3_e but not in opdate: 20389\n",
      "Count of records with values in both opdate and nsearch3_e: 33327\n",
      "Count of records with building age values: 56268\n",
      "Total of opdate records: 35879\n",
      "Total of nsearch3_e records: 53716\n"
     ]
    }
   ],
   "source": [
    "# Filter records with values in column A but not in column B\n",
    "only_opdate = gdf_sjoin_blgstr[gdf_sjoin_blgstr['opdate'].notna() & gdf_sjoin_blgstr['nsearch3_e'].isna()]\n",
    "\n",
    "# Filter records with values in column B but not in column A\n",
    "only_nsearch3 = gdf_sjoin_blgstr[gdf_sjoin_blgstr['nsearch3_e'].notna() & gdf_sjoin_blgstr['opdate'].isna()]\n",
    "\n",
    "# Filter records with values in both column A and column B\n",
    "both_opdate_and_nsearch3 = gdf_sjoin_blgstr[gdf_sjoin_blgstr['opdate'].notna() & gdf_sjoin_blgstr['nsearch3_e'].notna()]\n",
    "\n",
    "# Count the records\n",
    "count_only_opdate = len(only_opdate)\n",
    "count_only_nsearch3 = len(only_nsearch3)\n",
    "count_both_opdate_and_nsearch3 = len(both_opdate_and_nsearch3)\n",
    "count_building_age = count_only_opdate + count_only_nsearch3 + count_both_opdate_and_nsearch3\n",
    "\n",
    "# Count the total records\n",
    "total_opdate = gdf_sjoin_blgstr.opdate.count()\n",
    "total_nsearch3 = gdf_sjoin_blgstr.nsearch3_e.count()\n",
    "\n",
    "print(\"Count of records with values in opdate but not in nsearch3_e:\", count_only_opdate)\n",
    "print(\"Count of records with values in nsearch3_e but not in opdate:\", count_only_nsearch3)\n",
    "print(\"Count of records with values in both opdate and nsearch3_e:\", count_both_opdate_and_nsearch3)\n",
    "print(\"Count of records with building age values:\", count_building_age)\n",
    "print(\"Total of opdate records:\", total_opdate)\n",
    "print(\"Total of nsearch3_e records:\", total_nsearch3)"
   ]
  },
  {
   "cell_type": "code",
   "execution_count": null,
   "metadata": {},
   "outputs": [],
   "source": [
    "gdf_sjoin_blgstr.to_postgis(\"gdf_sjoin_blgstr_10m\", engine, if_exists=\"replace\")"
   ]
  },
  {
   "cell_type": "code",
   "execution_count": 41,
   "metadata": {},
   "outputs": [
    {
     "data": {
      "text/plain": [
       "54938"
      ]
     },
     "execution_count": 41,
     "metadata": {},
     "output_type": "execute_result"
    }
   ],
   "source": [
    "gdf_sjoin_blgstr.nsearch5_e.count()"
   ]
  },
  {
   "cell_type": "code",
   "execution_count": null,
   "metadata": {},
   "outputs": [],
   "source": []
  }
 ],
 "metadata": {
  "kernelspec": {
   "display_name": "geolab",
   "language": "python",
   "name": "python3"
  },
  "language_info": {
   "codemirror_mode": {
    "name": "ipython",
    "version": 3
   },
   "file_extension": ".py",
   "mimetype": "text/x-python",
   "name": "python",
   "nbconvert_exporter": "python",
   "pygments_lexer": "ipython3",
   "version": "3.9.19"
  }
 },
 "nbformat": 4,
 "nbformat_minor": 2
}
