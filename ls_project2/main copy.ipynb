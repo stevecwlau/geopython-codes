{
 "cells": [
  {
   "cell_type": "code",
   "execution_count": 1,
   "metadata": {},
   "outputs": [],
   "source": [
    "from gdb2csv import converter\n",
    "from gdbList import list_layers_with_types\n",
    "import pandas as pd\n",
    "import geopandas as gpd\n",
    "from sqlalchemy import create_engine,text \n",
    "import leafmap"
   ]
  },
  {
   "cell_type": "code",
   "execution_count": 3,
   "metadata": {},
   "outputs": [],
   "source": [
    "# Define the paths and layer name (comment out either one gdb_path when not in use)\n",
    "#gdb_path = \"data/iB1000.gdb\"\n",
    "gdb_path = r\"C:\\Users\\Steve_Lau\\Desktop\\LS Training\\ls_project1\\iB1000.gdb\"\n",
    "csv_path1 = \"data/BUILDINGNAME.csv\"\n",
    "layer_name1 = \"BUILDINGNAME\"\n",
    "csv_path2 = \"data/BUILDINGRELATEBUILDINGNAME.csv\"\n",
    "layer_name2 = \"BUILDINGRELATEBUILDINGNAME\""
   ]
  },
  {
   "cell_type": "code",
   "execution_count": 4,
   "metadata": {},
   "outputs": [],
   "source": [
    "# Define the db connection parameters\n",
    "username = \"postgres\"\n",
    "password = \"12345\"\n",
    "host = \"localhost\"\n",
    "database = \"iB1000\"\n",
    "port = \"5432\"\n",
    "\n",
    "engine = create_engine(f\"postgresql://{username}:{password}@{host}:{port}/{database}\")"
   ]
  },
  {
   "cell_type": "code",
   "execution_count": 5,
   "metadata": {},
   "outputs": [],
   "source": [
    "table_name = \"building\"\n",
    "sql = text(f\"SELECT * FROM {table_name}\")"
   ]
  },
  {
   "cell_type": "code",
   "execution_count": 6,
   "metadata": {},
   "outputs": [],
   "source": [
    "df = gpd.read_postgis(sql, con=engine.connect(), geom_col=\"shape\") "
   ]
  },
  {
   "cell_type": "code",
   "execution_count": 7,
   "metadata": {},
   "outputs": [
    {
     "data": {
      "text/html": [
       "<div>\n",
       "<style scoped>\n",
       "    .dataframe tbody tr th:only-of-type {\n",
       "        vertical-align: middle;\n",
       "    }\n",
       "\n",
       "    .dataframe tbody tr th {\n",
       "        vertical-align: top;\n",
       "    }\n",
       "\n",
       "    .dataframe thead th {\n",
       "        text-align: right;\n",
       "    }\n",
       "</style>\n",
       "<table border=\"1\" class=\"dataframe\">\n",
       "  <thead>\n",
       "    <tr style=\"text-align: right;\">\n",
       "      <th></th>\n",
       "      <th>objectid</th>\n",
       "      <th>lastupdatedate</th>\n",
       "      <th>buildingid</th>\n",
       "      <th>typeofbuildingblock</th>\n",
       "      <th>baselevel</th>\n",
       "      <th>rooflevel</th>\n",
       "      <th>baseleveldatasource</th>\n",
       "      <th>roofleveldatasource</th>\n",
       "      <th>buildingstatus</th>\n",
       "      <th>certainty</th>\n",
       "      <th>shape_length</th>\n",
       "      <th>shape_area</th>\n",
       "      <th>shape</th>\n",
       "    </tr>\n",
       "  </thead>\n",
       "  <tbody>\n",
       "    <tr>\n",
       "      <th>0</th>\n",
       "      <td>1</td>\n",
       "      <td>2024-05-07 16:00:00+00:00</td>\n",
       "      <td>1910247820</td>\n",
       "      <td>T</td>\n",
       "      <td>8.1</td>\n",
       "      <td>16.8</td>\n",
       "      <td>4.0</td>\n",
       "      <td>4.0</td>\n",
       "      <td>E</td>\n",
       "      <td>1</td>\n",
       "      <td>23.908286</td>\n",
       "      <td>31.450706</td>\n",
       "      <td>MULTIPOLYGON (((816145.174 831352.931, 816141....</td>\n",
       "    </tr>\n",
       "    <tr>\n",
       "      <th>1</th>\n",
       "      <td>2</td>\n",
       "      <td>2024-05-07 16:00:00+00:00</td>\n",
       "      <td>1910247815</td>\n",
       "      <td>T</td>\n",
       "      <td>8.1</td>\n",
       "      <td>16.1</td>\n",
       "      <td>4.0</td>\n",
       "      <td>4.0</td>\n",
       "      <td>E</td>\n",
       "      <td>1</td>\n",
       "      <td>24.364307</td>\n",
       "      <td>31.712137</td>\n",
       "      <td>MULTIPOLYGON (((816134.845 831345.483, 816130....</td>\n",
       "    </tr>\n",
       "    <tr>\n",
       "      <th>2</th>\n",
       "      <td>3</td>\n",
       "      <td>2024-05-06 16:00:00+00:00</td>\n",
       "      <td>1910247774</td>\n",
       "      <td>TS</td>\n",
       "      <td>NaN</td>\n",
       "      <td>NaN</td>\n",
       "      <td>NaN</td>\n",
       "      <td>NaN</td>\n",
       "      <td>E</td>\n",
       "      <td>1</td>\n",
       "      <td>16.514416</td>\n",
       "      <td>15.452368</td>\n",
       "      <td>MULTIPOLYGON (((818016.014 838748.731, 818021....</td>\n",
       "    </tr>\n",
       "    <tr>\n",
       "      <th>3</th>\n",
       "      <td>4</td>\n",
       "      <td>2024-05-02 16:00:00+00:00</td>\n",
       "      <td>1910247696</td>\n",
       "      <td>TS</td>\n",
       "      <td>7.2</td>\n",
       "      <td>10.3</td>\n",
       "      <td>4.0</td>\n",
       "      <td>4.0</td>\n",
       "      <td>E</td>\n",
       "      <td>1</td>\n",
       "      <td>32.868446</td>\n",
       "      <td>53.716489</td>\n",
       "      <td>MULTIPOLYGON (((831625.175 840983.536, 831624....</td>\n",
       "    </tr>\n",
       "    <tr>\n",
       "      <th>4</th>\n",
       "      <td>5</td>\n",
       "      <td>2024-05-02 16:00:00+00:00</td>\n",
       "      <td>1910247695</td>\n",
       "      <td>TS</td>\n",
       "      <td>7.2</td>\n",
       "      <td>10.4</td>\n",
       "      <td>4.0</td>\n",
       "      <td>4.0</td>\n",
       "      <td>E</td>\n",
       "      <td>1</td>\n",
       "      <td>121.792729</td>\n",
       "      <td>226.482654</td>\n",
       "      <td>MULTIPOLYGON (((831631.172 840978.743, 831627....</td>\n",
       "    </tr>\n",
       "  </tbody>\n",
       "</table>\n",
       "</div>"
      ],
      "text/plain": [
       "   objectid            lastupdatedate  buildingid typeofbuildingblock  \\\n",
       "0         1 2024-05-07 16:00:00+00:00  1910247820                   T   \n",
       "1         2 2024-05-07 16:00:00+00:00  1910247815                   T   \n",
       "2         3 2024-05-06 16:00:00+00:00  1910247774                  TS   \n",
       "3         4 2024-05-02 16:00:00+00:00  1910247696                  TS   \n",
       "4         5 2024-05-02 16:00:00+00:00  1910247695                  TS   \n",
       "\n",
       "   baselevel  rooflevel  baseleveldatasource  roofleveldatasource  \\\n",
       "0        8.1       16.8                  4.0                  4.0   \n",
       "1        8.1       16.1                  4.0                  4.0   \n",
       "2        NaN        NaN                  NaN                  NaN   \n",
       "3        7.2       10.3                  4.0                  4.0   \n",
       "4        7.2       10.4                  4.0                  4.0   \n",
       "\n",
       "  buildingstatus  certainty  shape_length  shape_area  \\\n",
       "0              E          1     23.908286   31.450706   \n",
       "1              E          1     24.364307   31.712137   \n",
       "2              E          1     16.514416   15.452368   \n",
       "3              E          1     32.868446   53.716489   \n",
       "4              E          1    121.792729  226.482654   \n",
       "\n",
       "                                               shape  \n",
       "0  MULTIPOLYGON (((816145.174 831352.931, 816141....  \n",
       "1  MULTIPOLYGON (((816134.845 831345.483, 816130....  \n",
       "2  MULTIPOLYGON (((818016.014 838748.731, 818021....  \n",
       "3  MULTIPOLYGON (((831625.175 840983.536, 831624....  \n",
       "4  MULTIPOLYGON (((831631.172 840978.743, 831627....  "
      ]
     },
     "execution_count": 7,
     "metadata": {},
     "output_type": "execute_result"
    }
   ],
   "source": [
    "df.head()"
   ]
  },
  {
   "cell_type": "code",
   "execution_count": 5,
   "metadata": {},
   "outputs": [
    {
     "name": "stdout",
     "output_type": "stream",
     "text": [
      "Connected to sdb database\n"
     ]
    }
   ],
   "source": [
    "dbname = \"sdb\"\n",
    "\n",
    "try:\n",
    "    conn = psycopg2.connect(dbname=dbname,\n",
    "                            user='postgres',\n",
    "                            password='12345',\n",
    "                            host='localhost')\n",
    "    print(f\"Connected to {dbname} database\")\n",
    "\n",
    "except:\n",
    "    print(f\"I am unable to connect to the {dbname} database\")"
   ]
  },
  {
   "cell_type": "code",
   "execution_count": null,
   "metadata": {},
   "outputs": [],
   "source": [
    "buildingname = gpd.read_postgis(sql, conn, geom_col='shape')"
   ]
  },
  {
   "cell_type": "code",
   "execution_count": null,
   "metadata": {},
   "outputs": [],
   "source": [
    "# List all layers within GDB by calling \"list_layers_with_types\" function\n",
    "list_layers_with_types(gdb_path)"
   ]
  },
  {
   "cell_type": "code",
   "execution_count": null,
   "metadata": {},
   "outputs": [],
   "source": [
    "# Convert from GDB to CSV by calling \"converter\" function\n",
    "converter(gdb_path, csv_path1, layer_name1)\n",
    "converter(gdb_path, csv_path2, layer_name2)"
   ]
  },
  {
   "cell_type": "code",
   "execution_count": null,
   "metadata": {},
   "outputs": [],
   "source": [
    "# Read the CSV files into DataFrames\n",
    "df1 = pd.read_csv(csv_path1)\n",
    "df2 = pd.read_csv(csv_path2)\n",
    "\n",
    "# Select only the \"BUILDINGNAMEID\", \"ENGLISHBUILDINGNAME\", and \"CHINESEBUILDINGNAME\" columns from df1\n",
    "df1_subset = df1[[\"BUILDINGNAMEID\",\n",
    "                  \"ENGLISHBUILDINGNAME\",\n",
    "                  \"CHINESEBUILDINGNAME\"]]\n",
    "\n",
    "# Merge df2 with the subset of df1 on the \"BUILDINGNAMEID\" column\n",
    "df3 = pd.merge(df2, df1_subset, on=\"BUILDINGNAMEID\")\n",
    "\n",
    "# Display the first few rows of the merged DataFrame\n",
    "df3.head()"
   ]
  },
  {
   "cell_type": "code",
   "execution_count": null,
   "metadata": {},
   "outputs": [],
   "source": [
    "gdf1 = gpd.read_file(gdb_path, layer=\"Building\")\n",
    "gdf1.head()"
   ]
  },
  {
   "cell_type": "code",
   "execution_count": null,
   "metadata": {},
   "outputs": [],
   "source": [
    "# Select only the \"BUILDINGID\", \"ENGLISHBUILDINGNAME\", and \"CHINESEBUILDINGNAME\" columns from df3\n",
    "df3_subset = df3[[\"BUILDINGID\",\n",
    "                  \"ENGLISHBUILDINGNAME\",\n",
    "                  \"CHINESEBUILDINGNAME\"]]\n",
    "\n",
    "# Merge gdf1 with the subset of df3 on the \"BUILDINGID\" column\n",
    "gdf2 = pd.merge(gdf1,\n",
    "                df3_subset,\n",
    "                on=\"BUILDINGID\")\n",
    "\n",
    "# Display the first few rows of the merged DataFrame\n",
    "gdf2.head()"
   ]
  },
  {
   "cell_type": "code",
   "execution_count": null,
   "metadata": {},
   "outputs": [],
   "source": [
    "#shp_path = \"data/building.shp\"\n",
    "\n",
    "#Convert the datetimes to strings\n",
    "#gdf2['LASTUPDATEDATE'] = gdf2['LASTUPDATEDATE'].dt.strftime('%Y-%m-%d')\n",
    "\n",
    "#gdf2.to_file(shp_path, encoding='utf-8')"
   ]
  },
  {
   "cell_type": "code",
   "execution_count": null,
   "metadata": {},
   "outputs": [],
   "source": [
    "# Keep only relevant columns\n",
    "gdf3 = gdf2.loc[:, (\"BUILDINGID\",\n",
    "                    \"TYPEOFBUILDINGBLOCK\",\n",
    "                    \"BASELEVEL\",\n",
    "                    \"ROOFLEVEL\",\n",
    "                    \"BUILDINGSTATUS\",\n",
    "                    \"ENGLISHBUILDINGNAME\",\n",
    "                    \"CHINESEBUILDINGNAME\")]\n",
    "\n",
    "gdf3.head(30)"
   ]
  },
  {
   "cell_type": "code",
   "execution_count": null,
   "metadata": {},
   "outputs": [],
   "source": []
  }
 ],
 "metadata": {
  "kernelspec": {
   "display_name": "geolab",
   "language": "python",
   "name": "python3"
  },
  "language_info": {
   "codemirror_mode": {
    "name": "ipython",
    "version": 3
   },
   "file_extension": ".py",
   "mimetype": "text/x-python",
   "name": "python",
   "nbconvert_exporter": "python",
   "pygments_lexer": "ipython3",
   "version": "3.9.19"
  }
 },
 "nbformat": 4,
 "nbformat_minor": 2
}
