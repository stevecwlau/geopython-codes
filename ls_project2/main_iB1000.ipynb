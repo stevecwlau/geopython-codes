{
 "cells": [
  {
   "cell_type": "code",
   "execution_count": 1,
   "metadata": {},
   "outputs": [],
   "source": [
    "import pandas as pd\n",
    "import geopandas as gpd\n",
    "from sqlalchemy import create_engine,text \n",
    "import leafmap"
   ]
  },
  {
   "cell_type": "code",
   "execution_count": 3,
   "metadata": {},
   "outputs": [
    {
     "name": "stdout",
     "output_type": "stream",
     "text": [
      "Downloaded file to C:\\Users\\Steve_Lau\\Desktop\\LS Training\\ls_project1\\downloaded_file.zip\n",
      "Extracted 20240527 to C:\\Users\\Steve_Lau\\Desktop\\LS Training\\ls_project1\n",
      "Removed the original downloaded file C:\\Users\\Steve_Lau\\Desktop\\LS Training\\ls_project1\\downloaded_file.zip\n"
     ]
    }
   ],
   "source": [
    "from fgdbDL import download_and_extract_gdb \n",
    "\n",
    "url = \"https://open.hkmapservice.gov.hk/OpenData/directDownload?productName=iB1000&sheetName=Fullset_Seamless&productFormat=FGDB\"\n",
    "\n",
    "storage_path = r\"C:\\Users\\Steve_Lau\\Desktop\\LS Training\\ls_project1\"\n",
    "download_and_extract_gdb(url, storage_path)"
   ]
  },
  {
   "cell_type": "code",
   "execution_count": 13,
   "metadata": {},
   "outputs": [],
   "source": [
    "# Define the paths and layer name (comment out either one gdb_path when not in use)\n",
    "#gdb_path = \"/home/steeb/Documents/GIS/20240509/iB1000.gdb\"\n",
    "gdb_path = r\"C:\\Users\\Steve_Lau\\Desktop\\LS Training\\ls_project1\\20240527\\iB1000.gdb\"\n",
    "\n",
    "# Define the db connection parameters\n",
    "username = \"postgres\"\n",
    "password = \"12345\"\n",
    "host = \"localhost\"\n",
    "dbname = \"iB1000\"\n",
    "port = \"5432\"\n",
    "\n",
    "pg_connection = f\"PG:host={host} port={port} dbname={dbname} user={username} password={password}\"\n",
    "engine = create_engine(f\"postgresql://{username}:{password}@{host}:{port}/{dbname}\")"
   ]
  },
  {
   "cell_type": "code",
   "execution_count": null,
   "metadata": {},
   "outputs": [],
   "source": [
    "from gdb2pgsql import transfer_gdb_to_postgis\n",
    "\n",
    "transfer_gdb_to_postgis(gdb_path, pg_connection)"
   ]
  },
  {
   "cell_type": "code",
   "execution_count": 14,
   "metadata": {},
   "outputs": [
    {
     "name": "stdout",
     "output_type": "stream",
     "text": [
      "Layers in the GeoDatabase:\n",
      "Layer: UtilityNumber, Type: None\n",
      "Layer: BUILDINGRELATEBUILDINGNAME, Type: None\n",
      "Layer: SITENAME, Type: None\n",
      "Layer: SITERELATESITENAME, Type: None\n",
      "Layer: Street_Code, Type: None\n",
      "Layer: BUILDINGNAME, Type: None\n",
      "Layer: ADDRESSRELATEBUILDINGSITE, Type: None\n",
      "Layer: ADDRESS, Type: None\n",
      "Layer: BSLineAnno, Type: Multi Polygon\n",
      "Layer: BSPointAnno, Type: Multi Polygon\n",
      "Layer: BSPolygonAnno, Type: Multi Polygon\n",
      "Layer: Building, Type: 3D Multi Polygon\n",
      "Layer: BuildingAccessoryLine, Type: 3D Multi Line String\n",
      "Layer: BuildingAnno, Type: Multi Polygon\n",
      "Layer: BuildingAnnoHouseNo, Type: Multi Polygon\n",
      "Layer: BuiltStructureLine, Type: 3D Multi Line String\n",
      "Layer: BuiltStructurePoint, Type: 3D Point\n",
      "Layer: BuiltStructurePolygon, Type: 3D Multi Polygon\n",
      "Layer: CartoBuildingLine, Type: 3D Multi Line String\n",
      "Layer: ProposedInfraAnno, Type: Multi Polygon\n",
      "Layer: ProposedInfraStructureLine, Type: 3D Multi Line String\n",
      "Layer: ProposedInfraStructurePoint, Type: 3D Point\n",
      "Layer: Site, Type: 3D Multi Polygon\n",
      "Layer: SiteAnno, Type: Multi Polygon\n",
      "Layer: SubSite, Type: 3D Multi Polygon\n",
      "Layer: SubSiteAnno, Type: Multi Polygon\n",
      "Layer: CartoHydroLine, Type: 3D Multi Line String\n",
      "Layer: HydroLine, Type: 3D Multi Line String\n",
      "Layer: HydroLineAnno, Type: Multi Polygon\n",
      "Layer: HydroPoint, Type: 3D Point\n",
      "Layer: HydroPointAnno, Type: Multi Polygon\n",
      "Layer: HydroPolygon, Type: 3D Multi Polygon\n",
      "Layer: HydroPolygonAnno, Type: Multi Polygon\n",
      "Layer: Shoreline, Type: 3D Multi Line String\n",
      "Layer: BoulderPoint, Type: 3D Point\n",
      "Layer: BoulderPolygon, Type: 3D Multi Polygon\n",
      "Layer: CartoLandCoverLine, Type: 3D Multi Line String\n",
      "Layer: LandCoverAnno, Type: Multi Polygon\n",
      "Layer: LandCoverVector2, Type: 3D Multi Polygon\n",
      "Layer: Tree, Type: 3D Point\n",
      "Layer: PlaceNameAnno, Type: Multi Polygon\n",
      "Layer: Berm, Type: 3D Multi Polygon\n",
      "Layer: BMSslope, Type: 3D Multi Polygon\n",
      "Layer: BMSslopeAnno, Type: Multi Polygon\n",
      "Layer: CartoReliefLine, Type: 3D Multi Line String\n",
      "Layer: Contour, Type: 3D Multi Line String\n",
      "Layer: ContourAnno, Type: Multi Polygon\n",
      "Layer: SpotHeight, Type: 3D Point\n",
      "Layer: VerticalCutPolygon, Type: 3D Multi Polygon\n",
      "Layer: CartoPedLine, Type: 3D Measured Multi Line String\n",
      "Layer: CartoTransLine, Type: 3D Measured Multi Line String\n",
      "Layer: PedestrianAnno, Type: Multi Polygon\n",
      "Layer: RailwayAnno, Type: Multi Polygon\n",
      "Layer: RailwayEntrance, Type: 3D Measured Point\n",
      "Layer: RailwayPolygon, Type: 3D Measured Multi Polygon\n",
      "Layer: RoadAnno, Type: Multi Polygon\n",
      "Layer: RoadAssetPoint, Type: 3D Measured Point\n",
      "Layer: TerminalAnno, Type: Multi Polygon\n",
      "Layer: TransportLine, Type: 3D Measured Multi Line String\n",
      "Layer: TransportLineAnno, Type: Multi Polygon\n",
      "Layer: TransportPolygon, Type: 3D Measured Multi Polygon\n",
      "Layer: TransportPolygonAnno, Type: Multi Polygon\n",
      "Layer: StreetCentreLines, Type: 3D Measured Multi Line String\n",
      "Layer: CartoUtilityLine, Type: 3D Multi Line String\n",
      "Layer: UtilityLine, Type: 3D Multi Line String\n",
      "Layer: UtilityLineAnno, Type: Multi Polygon\n",
      "Layer: UtilityPoint, Type: 3D Point\n",
      "Layer: UtilityPointAnno, Type: Multi Polygon\n",
      "Layer: UtilityPolygon, Type: 3D Multi Polygon\n",
      "Layer: UtilityPolygonAnno, Type: Multi Polygon\n",
      "Layer: BMSslopeSymbol, Type: 3D Point\n"
     ]
    }
   ],
   "source": [
    "from gdbList import list_layers_with_types\n",
    "\n",
    "list_layers_with_types(gdb_path)"
   ]
  },
  {
   "cell_type": "code",
   "execution_count": 3,
   "metadata": {},
   "outputs": [],
   "source": [
    "table_blgname = \"BUILDINGNAME\"\n",
    "table_blg_blgname = \"BUILDINGRELATEBUILDINGNAME\"\n",
    "table_blg = \"building\"\n",
    "table_site = \"site\"\n",
    "\n",
    "sql_blgname = text(f\"SELECT * FROM {table_blgname}\")\n",
    "sql_blg_blgname = text(f\"SELECT * FROM {table_blg_blgname}\")\n",
    "sql_blg = text(f\"SELECT * FROM {table_blg}\")\n",
    "sql_site = text(f\"SELECT * FROM {table_site}\")"
   ]
  },
  {
   "cell_type": "code",
   "execution_count": 4,
   "metadata": {},
   "outputs": [],
   "source": [
    "# Read the tables into DataFrames\n",
    "df_blgname = pd.read_sql(sql_blgname, con=engine.connect())\n",
    "df_blg_blgname = pd.read_sql(sql_blg_blgname, con=engine.connect())\n",
    "\n",
    "# Read the tables with geometry into DataFrames\n",
    "gdf_blg = gpd.read_postgis(sql_blg, con=engine.connect(), geom_col=\"shape\") \n",
    "gdf_site = gpd.read_postgis(sql_site, con=engine.connect(), geom_col=\"shape\")"
   ]
  },
  {
   "cell_type": "code",
   "execution_count": 6,
   "metadata": {},
   "outputs": [],
   "source": [
    "# Select only the \"BUILDINGNAMEID\", \"ENGLISHBUILDINGNAME\", and \"CHINESEBUILDINGNAME\" columns from df_blgname\n",
    "df_blgname_subset = df_blgname[[\"buildingnameid\",\n",
    "                  \"englishbuildingname\",\n",
    "                  \"chinesebuildingname\"]]\n",
    "\n",
    "# Merge df_blg_blgname with the subset of df_blgname on the \"BUILDINGNAMEID\" column\n",
    "df_merge_blgname = pd.merge(df_blg_blgname,\n",
    "                            df_blgname_subset,\n",
    "                            on=\"buildingnameid\",\n",
    "                            how=\"right\")"
   ]
  },
  {
   "cell_type": "code",
   "execution_count": 7,
   "metadata": {},
   "outputs": [],
   "source": [
    "# Select only the \"BUILDINGID\", \"ENGLISHBUILDINGNAME\", and \"CHINESEBUILDINGNAME\" columns from df_merge_blgname\n",
    "df_merge_blgname_subset = df_merge_blgname[[\"buildingid\",\n",
    "                  \"englishbuildingname\",\n",
    "                  \"chinesebuildingname\"]]\n",
    "\n",
    "# Merge gdf_blg with the subset of df_merge_blgname on the \"BUILDINGID\" column\n",
    "gdf_merge_blgname = pd.merge(gdf_blg,\n",
    "                df_merge_blgname_subset,\n",
    "                on=\"buildingid\", how=\"left\")"
   ]
  },
  {
   "cell_type": "code",
   "execution_count": 8,
   "metadata": {},
   "outputs": [],
   "source": [
    "# Drop duplicated rows based on \"buildingid\"\n",
    "gdf_merge_blgname = gdf_merge_blgname.drop_duplicates(subset=\"buildingid\")\n",
    "\n",
    "# Keep only relevant columns\n",
    "gdf_merge_blgname = gdf_merge_blgname.loc[:, (\"buildingid\",\n",
    "                    \"typeofbuildingblock\",\n",
    "                    \"baselevel\",\n",
    "                    \"rooflevel\",\n",
    "                    \"buildingstatus\",\n",
    "                    \"englishbuildingname\",\n",
    "                    \"chinesebuildingname\",\n",
    "                    \"shape\")]"
   ]
  },
  {
   "cell_type": "code",
   "execution_count": 9,
   "metadata": {},
   "outputs": [],
   "source": [
    "dict_col = {1:'Farm',\n",
    "            2:'Accommodation',\n",
    "            3:'Commerce',\n",
    "            4:'Education And Training',\n",
    "            5:'Health And Medical Service',\n",
    "            6:'Leisure Culture And Sports',\n",
    "            7:'Organization',\n",
    "            8:'Public And Social Service',\n",
    "            9:'Religion',\n",
    "            10:'Tourist Attraction',\n",
    "            11:'Military',\n",
    "            12:'Industry',\n",
    "            13:'Works Area',\n",
    "            14:'Transportation',\n",
    "            15:'Utilities'\n",
    "            }\n",
    "\n",
    "gdf_site['sitestype'] = gdf_site['sitestype'].map(dict_col)"
   ]
  },
  {
   "cell_type": "code",
   "execution_count": 10,
   "metadata": {},
   "outputs": [],
   "source": [
    "gdf_overlay_blg_site = gpd.overlay(gdf_merge_blgname,\n",
    "                                   gdf_site,\n",
    "                                   how='intersection')\n",
    "gdf_overlay_blg_site['area'] = gdf_overlay_blg_site.geometry.area"
   ]
  },
  {
   "cell_type": "code",
   "execution_count": null,
   "metadata": {},
   "outputs": [],
   "source": [
    "gdf_overlay_blg_site.sort_values(by='area', inplace=True)\n",
    "gdf_overlay_blg_site.drop_duplicates(subset='buildingid',\n",
    "                                     keep='last',\n",
    "                                     inplace=True)\n",
    "gdf_overlay_blg_site.drop(columns=['area'], inplace=True)"
   ]
  },
  {
   "cell_type": "code",
   "execution_count": null,
   "metadata": {},
   "outputs": [],
   "source": [
    "gdf_overlay_blg_site.head()"
   ]
  },
  {
   "cell_type": "code",
   "execution_count": null,
   "metadata": {},
   "outputs": [],
   "source": [
    "gdf_overlay_sitetype = gdf_overlay_blg_site[[\"buildingid\",\n",
    "                                             \"sitestype\",\n",
    "                                             \"sitecode\"]]\n",
    "\n",
    "gdf_sjoin_blg_site = gdf_merge_blgname.merge(gdf_overlay_sitetype,\n",
    "                                             on=\"buildingid\",\n",
    "                                             how=\"left\")\n",
    "\n",
    "gdf_sjoin_blg_site.head()"
   ]
  },
  {
   "cell_type": "code",
   "execution_count": null,
   "metadata": {},
   "outputs": [],
   "source": [
    "# Keep only relevant columns\n",
    "gdf_sjoin_blg_site = gdf_sjoin_blg_site.loc[:, (\"buildingid\",\n",
    "                    \"typeofbuildingblock\",\n",
    "                    \"baselevel\",\n",
    "                    \"rooflevel\",\n",
    "                    \"buildingstatus\",\n",
    "                    \"englishbuildingname\",\n",
    "                    \"chinesebuildingname\",\n",
    "                    \"sitestype\",\n",
    "                    \"sitecode\",\n",
    "                    \"shape\")]"
   ]
  },
  {
   "cell_type": "code",
   "execution_count": null,
   "metadata": {},
   "outputs": [],
   "source": [
    "shp_path_1 = \"/home/steeb/Documents/GIS/buildings.shp\"\n",
    "gdf_merge_blgname.to_file(shp_path_1, encoding='utf-8')"
   ]
  },
  {
   "cell_type": "code",
   "execution_count": null,
   "metadata": {},
   "outputs": [],
   "source": [
    "shp_path_2 = \"/home/steeb/Documents/GIS/buildingsites_sjoin.shp\"\n",
    "gdf_sjoin_blg_site.to_file(shp_path_2, encoding='utf-8')"
   ]
  },
  {
   "cell_type": "code",
   "execution_count": null,
   "metadata": {},
   "outputs": [],
   "source": [
    "m = leafmap.Map()\n",
    "\n",
    "m.add_gdf(gdf_sjoin_blg_site, layer_name=\"buildings\")\n",
    "m"
   ]
  }
 ],
 "metadata": {
  "kernelspec": {
   "display_name": "geolab",
   "language": "python",
   "name": "python3"
  },
  "language_info": {
   "codemirror_mode": {
    "name": "ipython",
    "version": 3
   },
   "file_extension": ".py",
   "mimetype": "text/x-python",
   "name": "python",
   "nbconvert_exporter": "python",
   "pygments_lexer": "ipython3",
   "version": "3.9.19"
  }
 },
 "nbformat": 4,
 "nbformat_minor": 2
}
