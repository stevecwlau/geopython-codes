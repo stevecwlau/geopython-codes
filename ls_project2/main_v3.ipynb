{
 "cells": [
  {
   "cell_type": "code",
   "execution_count": 1,
   "metadata": {},
   "outputs": [],
   "source": [
    "import pandas as pd\n",
    "import geopandas as gpd\n",
    "from sqlalchemy import create_engine,text \n",
    "import leafmap"
   ]
  },
  {
   "cell_type": "code",
   "execution_count": 4,
   "metadata": {},
   "outputs": [],
   "source": [
    "# Define the paths and layer name (comment out either one gdb_path when not in use)\n",
    "#gdb_path = \"/home/steeb/Documents/GIS/20240509/Building_Footprint.gdb\"\n",
    "gdb_path = r\"C:\\Users\\Steve_Lau\\Desktop\\LS Training\\ls_project1\\Building_Footprint.gdb\"\n",
    "\n",
    "# Define the db connection parameters\n",
    "username = \"postgres\"\n",
    "password = \"12345\"\n",
    "host = \"localhost\"\n",
    "dbname = \"Buildings\"\n",
    "port = \"5432\"\n",
    "\n",
    "pg_connection = f\"PG:host={host} port={port} dbname={dbname} user={username} password={password}\"\n",
    "engine = create_engine(f\"postgresql://{username}:{password}@{host}:{port}/{dbname}\")"
   ]
  },
  {
   "cell_type": "code",
   "execution_count": 5,
   "metadata": {},
   "outputs": [
    {
     "name": "stdout",
     "output_type": "stream",
     "text": [
      "Layer: BUILDING_STRUCTURE, Type: Multi Polygon\n",
      "Layer: RENAMED_CSU, Type: None\n",
      "Layer: DELETED_CSU, Type: None\n",
      "Layer: CT_DELETED_CSU_REASON, Type: None\n",
      "Layer: CT_RENAMED_CSU_REASON, Type: None\n",
      "Layer: BUILDING_INFO, Type: None\n",
      "Layer: BUILDING_LOT_NO_INFO, Type: None\n",
      "Layer: BUILDING_NAME, Type: None\n",
      "Layer: BUILDING_WORKS_HISTORY, Type: None\n",
      "Layer: CT_BUILDING_CATEGORY, Type: None\n",
      "Layer: CT_BUILDING_INFO_TYPE, Type: None\n",
      "Layer: CT_BUILDING_STATUS, Type: None\n",
      "Layer: CT_BUILDING_STRUCTURE_TYPE, Type: None\n",
      "Layer: CT_BUILDING_WORKS_TYPE, Type: None\n",
      "Layer: CT_NAME_INFO_SOURCE, Type: None\n",
      "Layer: CT_NAME_STATUS, Type: None\n",
      "Layer: OCCUPATION_PERMIT, Type: None\n",
      "Layer: OP_BUILDING_STRUCTURE, Type: None\n",
      "Running command: ogr2ogr -f PostgreSQL PG:host=localhost port=5432 dbname=Buildings user=postgres password=12345 C:\\Users\\Steve_Lau\\Desktop\\LS Training\\ls_project1\\Building_Footprint.gdb BUILDING_STRUCTURE -nlt MULTIPOLYGON\n",
      "Command for layer BUILDING_STRUCTURE executed successfully\n",
      "\n",
      "Running command: ogr2ogr -f PostgreSQL PG:host=localhost port=5432 dbname=Buildings user=postgres password=12345 C:\\Users\\Steve_Lau\\Desktop\\LS Training\\ls_project1\\Building_Footprint.gdb RENAMED_CSU -nlt NONE\n",
      "Command for layer RENAMED_CSU executed successfully\n",
      "\n",
      "Running command: ogr2ogr -f PostgreSQL PG:host=localhost port=5432 dbname=Buildings user=postgres password=12345 C:\\Users\\Steve_Lau\\Desktop\\LS Training\\ls_project1\\Building_Footprint.gdb DELETED_CSU -nlt NONE\n",
      "Command for layer DELETED_CSU executed successfully\n",
      "\n",
      "Running command: ogr2ogr -f PostgreSQL PG:host=localhost port=5432 dbname=Buildings user=postgres password=12345 C:\\Users\\Steve_Lau\\Desktop\\LS Training\\ls_project1\\Building_Footprint.gdb CT_DELETED_CSU_REASON -nlt NONE\n",
      "Command for layer CT_DELETED_CSU_REASON executed successfully\n",
      "\n",
      "Running command: ogr2ogr -f PostgreSQL PG:host=localhost port=5432 dbname=Buildings user=postgres password=12345 C:\\Users\\Steve_Lau\\Desktop\\LS Training\\ls_project1\\Building_Footprint.gdb CT_RENAMED_CSU_REASON -nlt NONE\n",
      "Command for layer CT_RENAMED_CSU_REASON executed successfully\n",
      "\n",
      "Running command: ogr2ogr -f PostgreSQL PG:host=localhost port=5432 dbname=Buildings user=postgres password=12345 C:\\Users\\Steve_Lau\\Desktop\\LS Training\\ls_project1\\Building_Footprint.gdb BUILDING_INFO -nlt NONE\n",
      "Command for layer BUILDING_INFO executed successfully\n",
      "\n",
      "Running command: ogr2ogr -f PostgreSQL PG:host=localhost port=5432 dbname=Buildings user=postgres password=12345 C:\\Users\\Steve_Lau\\Desktop\\LS Training\\ls_project1\\Building_Footprint.gdb BUILDING_LOT_NO_INFO -nlt NONE\n",
      "Command for layer BUILDING_LOT_NO_INFO executed successfully\n",
      "\n",
      "Running command: ogr2ogr -f PostgreSQL PG:host=localhost port=5432 dbname=Buildings user=postgres password=12345 C:\\Users\\Steve_Lau\\Desktop\\LS Training\\ls_project1\\Building_Footprint.gdb BUILDING_NAME -nlt NONE\n",
      "Command for layer BUILDING_NAME executed successfully\n",
      "\n",
      "Running command: ogr2ogr -f PostgreSQL PG:host=localhost port=5432 dbname=Buildings user=postgres password=12345 C:\\Users\\Steve_Lau\\Desktop\\LS Training\\ls_project1\\Building_Footprint.gdb BUILDING_WORKS_HISTORY -nlt NONE\n",
      "Command for layer BUILDING_WORKS_HISTORY executed successfully\n",
      "\n",
      "Running command: ogr2ogr -f PostgreSQL PG:host=localhost port=5432 dbname=Buildings user=postgres password=12345 C:\\Users\\Steve_Lau\\Desktop\\LS Training\\ls_project1\\Building_Footprint.gdb CT_BUILDING_CATEGORY -nlt NONE\n",
      "Command for layer CT_BUILDING_CATEGORY executed successfully\n",
      "\n",
      "Running command: ogr2ogr -f PostgreSQL PG:host=localhost port=5432 dbname=Buildings user=postgres password=12345 C:\\Users\\Steve_Lau\\Desktop\\LS Training\\ls_project1\\Building_Footprint.gdb CT_BUILDING_INFO_TYPE -nlt NONE\n",
      "Command for layer CT_BUILDING_INFO_TYPE executed successfully\n",
      "\n",
      "Running command: ogr2ogr -f PostgreSQL PG:host=localhost port=5432 dbname=Buildings user=postgres password=12345 C:\\Users\\Steve_Lau\\Desktop\\LS Training\\ls_project1\\Building_Footprint.gdb CT_BUILDING_STATUS -nlt NONE\n",
      "Command for layer CT_BUILDING_STATUS executed successfully\n",
      "\n",
      "Running command: ogr2ogr -f PostgreSQL PG:host=localhost port=5432 dbname=Buildings user=postgres password=12345 C:\\Users\\Steve_Lau\\Desktop\\LS Training\\ls_project1\\Building_Footprint.gdb CT_BUILDING_STRUCTURE_TYPE -nlt NONE\n",
      "Command for layer CT_BUILDING_STRUCTURE_TYPE executed successfully\n",
      "\n",
      "Running command: ogr2ogr -f PostgreSQL PG:host=localhost port=5432 dbname=Buildings user=postgres password=12345 C:\\Users\\Steve_Lau\\Desktop\\LS Training\\ls_project1\\Building_Footprint.gdb CT_BUILDING_WORKS_TYPE -nlt NONE\n",
      "Command for layer CT_BUILDING_WORKS_TYPE executed successfully\n",
      "\n",
      "Running command: ogr2ogr -f PostgreSQL PG:host=localhost port=5432 dbname=Buildings user=postgres password=12345 C:\\Users\\Steve_Lau\\Desktop\\LS Training\\ls_project1\\Building_Footprint.gdb CT_NAME_INFO_SOURCE -nlt NONE\n",
      "Command for layer CT_NAME_INFO_SOURCE executed successfully\n",
      "\n",
      "Running command: ogr2ogr -f PostgreSQL PG:host=localhost port=5432 dbname=Buildings user=postgres password=12345 C:\\Users\\Steve_Lau\\Desktop\\LS Training\\ls_project1\\Building_Footprint.gdb CT_NAME_STATUS -nlt NONE\n",
      "Command for layer CT_NAME_STATUS executed successfully\n",
      "\n",
      "Running command: ogr2ogr -f PostgreSQL PG:host=localhost port=5432 dbname=Buildings user=postgres password=12345 C:\\Users\\Steve_Lau\\Desktop\\LS Training\\ls_project1\\Building_Footprint.gdb OCCUPATION_PERMIT -nlt NONE\n",
      "Command for layer OCCUPATION_PERMIT executed successfully\n",
      "\n",
      "Running command: ogr2ogr -f PostgreSQL PG:host=localhost port=5432 dbname=Buildings user=postgres password=12345 C:\\Users\\Steve_Lau\\Desktop\\LS Training\\ls_project1\\Building_Footprint.gdb OP_BUILDING_STRUCTURE -nlt NONE\n",
      "Command for layer OP_BUILDING_STRUCTURE executed successfully\n",
      "\n"
     ]
    }
   ],
   "source": [
    "from gdb2pgsql import transfer_gdb_to_postgis\n",
    "\n",
    "transfer_gdb_to_postgis(gdb_path, pg_connection)"
   ]
  },
  {
   "cell_type": "code",
   "execution_count": 6,
   "metadata": {},
   "outputs": [
    {
     "name": "stdout",
     "output_type": "stream",
     "text": [
      "Layers in the GeoDatabase:\n",
      "Layer: BUILDING_STRUCTURE, Type: Multi Polygon\n",
      "Layer: RENAMED_CSU, Type: None\n",
      "Layer: DELETED_CSU, Type: None\n",
      "Layer: CT_DELETED_CSU_REASON, Type: None\n",
      "Layer: CT_RENAMED_CSU_REASON, Type: None\n",
      "Layer: BUILDING_INFO, Type: None\n",
      "Layer: BUILDING_LOT_NO_INFO, Type: None\n",
      "Layer: BUILDING_NAME, Type: None\n",
      "Layer: BUILDING_WORKS_HISTORY, Type: None\n",
      "Layer: CT_BUILDING_CATEGORY, Type: None\n",
      "Layer: CT_BUILDING_INFO_TYPE, Type: None\n",
      "Layer: CT_BUILDING_STATUS, Type: None\n",
      "Layer: CT_BUILDING_STRUCTURE_TYPE, Type: None\n",
      "Layer: CT_BUILDING_WORKS_TYPE, Type: None\n",
      "Layer: CT_NAME_INFO_SOURCE, Type: None\n",
      "Layer: CT_NAME_STATUS, Type: None\n",
      "Layer: OCCUPATION_PERMIT, Type: None\n",
      "Layer: OP_BUILDING_STRUCTURE, Type: None\n"
     ]
    }
   ],
   "source": [
    "from gdbList import list_layers_with_types\n",
    "\n",
    "list_layers_with_types(gdb_path)"
   ]
  },
  {
   "cell_type": "code",
   "execution_count": 3,
   "metadata": {},
   "outputs": [],
   "source": [
    "table_blgname = \"BUILDINGNAME\"\n",
    "table_blg_blgname = \"BUILDINGRELATEBUILDINGNAME\"\n",
    "table_blg = \"building\"\n",
    "table_site = \"site\"\n",
    "\n",
    "sql_blgname = text(f\"SELECT * FROM {table_blgname}\")\n",
    "sql_blg_blgname = text(f\"SELECT * FROM {table_blg_blgname}\")\n",
    "sql_blg = text(f\"SELECT * FROM {table_blg}\")\n",
    "sql_site = text(f\"SELECT * FROM {table_site}\")"
   ]
  },
  {
   "cell_type": "code",
   "execution_count": 4,
   "metadata": {},
   "outputs": [],
   "source": [
    "# Read the tables into DataFrames\n",
    "df_blgname = pd.read_sql(sql_blgname, con=engine.connect())\n",
    "df_blg_blgname = pd.read_sql(sql_blg_blgname, con=engine.connect())\n",
    "\n",
    "# Read the tables with geometry into DataFrames\n",
    "gdf_blg = gpd.read_postgis(sql_blg, con=engine.connect(), geom_col=\"shape\") \n",
    "gdf_site = gpd.read_postgis(sql_site, con=engine.connect(), geom_col=\"shape\")"
   ]
  },
  {
   "cell_type": "code",
   "execution_count": 6,
   "metadata": {},
   "outputs": [],
   "source": [
    "# Select only the \"BUILDINGNAMEID\", \"ENGLISHBUILDINGNAME\", and \"CHINESEBUILDINGNAME\" columns from df_blgname\n",
    "df_blgname_subset = df_blgname[[\"buildingnameid\",\n",
    "                  \"englishbuildingname\",\n",
    "                  \"chinesebuildingname\"]]\n",
    "\n",
    "# Merge df_blg_blgname with the subset of df_blgname on the \"BUILDINGNAMEID\" column\n",
    "df_merge_blgname = pd.merge(df_blg_blgname,\n",
    "                            df_blgname_subset,\n",
    "                            on=\"buildingnameid\",\n",
    "                            how=\"right\")"
   ]
  },
  {
   "cell_type": "code",
   "execution_count": 7,
   "metadata": {},
   "outputs": [],
   "source": [
    "# Select only the \"BUILDINGID\", \"ENGLISHBUILDINGNAME\", and \"CHINESEBUILDINGNAME\" columns from df_merge_blgname\n",
    "df_merge_blgname_subset = df_merge_blgname[[\"buildingid\",\n",
    "                  \"englishbuildingname\",\n",
    "                  \"chinesebuildingname\"]]\n",
    "\n",
    "# Merge gdf_blg with the subset of df_merge_blgname on the \"BUILDINGID\" column\n",
    "gdf_merge_blgname = pd.merge(gdf_blg,\n",
    "                df_merge_blgname_subset,\n",
    "                on=\"buildingid\", how=\"left\")"
   ]
  },
  {
   "cell_type": "code",
   "execution_count": 8,
   "metadata": {},
   "outputs": [],
   "source": [
    "# Drop duplicated rows based on \"buildingid\"\n",
    "gdf_merge_blgname = gdf_merge_blgname.drop_duplicates(subset=\"buildingid\")\n",
    "\n",
    "# Keep only relevant columns\n",
    "gdf_merge_blgname = gdf_merge_blgname.loc[:, (\"buildingid\",\n",
    "                    \"typeofbuildingblock\",\n",
    "                    \"baselevel\",\n",
    "                    \"rooflevel\",\n",
    "                    \"buildingstatus\",\n",
    "                    \"englishbuildingname\",\n",
    "                    \"chinesebuildingname\",\n",
    "                    \"shape\")]"
   ]
  },
  {
   "cell_type": "code",
   "execution_count": 9,
   "metadata": {},
   "outputs": [],
   "source": [
    "dict_col = {1:'Farm',\n",
    "            2:'Accommodation',\n",
    "            3:'Commerce',\n",
    "            4:'Education And Training',\n",
    "            5:'Health And Medical Service',\n",
    "            6:'Leisure Culture And Sports',\n",
    "            7:'Organization',\n",
    "            8:'Public And Social Service',\n",
    "            9:'Religion',\n",
    "            10:'Tourist Attraction',\n",
    "            11:'Military',\n",
    "            12:'Industry',\n",
    "            13:'Works Area',\n",
    "            14:'Transportation',\n",
    "            15:'Utilities'\n",
    "            }\n",
    "\n",
    "gdf_site['sitestype'] = gdf_site['sitestype'].map(dict_col)"
   ]
  },
  {
   "cell_type": "code",
   "execution_count": 10,
   "metadata": {},
   "outputs": [],
   "source": [
    "gdf_overlay_blg_site = gpd.overlay(gdf_merge_blgname,\n",
    "                                   gdf_site,\n",
    "                                   how='intersection')\n",
    "gdf_overlay_blg_site['area'] = gdf_overlay_blg_site.geometry.area"
   ]
  },
  {
   "cell_type": "code",
   "execution_count": null,
   "metadata": {},
   "outputs": [],
   "source": [
    "gdf_overlay_blg_site.sort_values(by='area', inplace=True)\n",
    "gdf_overlay_blg_site.drop_duplicates(subset='buildingid',\n",
    "                                     keep='last',\n",
    "                                     inplace=True)\n",
    "gdf_overlay_blg_site.drop(columns=['area'], inplace=True)"
   ]
  },
  {
   "cell_type": "code",
   "execution_count": null,
   "metadata": {},
   "outputs": [],
   "source": [
    "gdf_overlay_blg_site.head()"
   ]
  },
  {
   "cell_type": "code",
   "execution_count": null,
   "metadata": {},
   "outputs": [],
   "source": [
    "gdf_overlay_sitetype = gdf_overlay_blg_site[[\"buildingid\",\n",
    "                                             \"sitestype\",\n",
    "                                             \"sitecode\"]]\n",
    "\n",
    "gdf_sjoin_blg_site = gdf_merge_blgname.merge(gdf_overlay_sitetype,\n",
    "                                             on=\"buildingid\",\n",
    "                                             how=\"left\")\n",
    "\n",
    "gdf_sjoin_blg_site.head()"
   ]
  },
  {
   "cell_type": "code",
   "execution_count": null,
   "metadata": {},
   "outputs": [],
   "source": [
    "# Keep only relevant columns\n",
    "gdf_sjoin_blg_site = gdf_sjoin_blg_site.loc[:, (\"buildingid\",\n",
    "                    \"typeofbuildingblock\",\n",
    "                    \"baselevel\",\n",
    "                    \"rooflevel\",\n",
    "                    \"buildingstatus\",\n",
    "                    \"englishbuildingname\",\n",
    "                    \"chinesebuildingname\",\n",
    "                    \"sitestype\",\n",
    "                    \"sitecode\",\n",
    "                    \"shape\")]"
   ]
  },
  {
   "cell_type": "code",
   "execution_count": null,
   "metadata": {},
   "outputs": [],
   "source": [
    "shp_path_1 = \"/home/steeb/Documents/GIS/buildings.shp\"\n",
    "gdf_merge_blgname.to_file(shp_path_1, encoding='utf-8')"
   ]
  },
  {
   "cell_type": "code",
   "execution_count": null,
   "metadata": {},
   "outputs": [],
   "source": [
    "shp_path_2 = \"/home/steeb/Documents/GIS/buildingsites_sjoin.shp\"\n",
    "gdf_sjoin_blg_site.to_file(shp_path_2, encoding='utf-8')"
   ]
  },
  {
   "cell_type": "code",
   "execution_count": null,
   "metadata": {},
   "outputs": [],
   "source": [
    "m = leafmap.Map()\n",
    "\n",
    "m.add_gdf(gdf_sjoin_blg_site, layer_name=\"buildings\")\n",
    "m"
   ]
  }
 ],
 "metadata": {
  "kernelspec": {
   "display_name": "geolab",
   "language": "python",
   "name": "python3"
  },
  "language_info": {
   "codemirror_mode": {
    "name": "ipython",
    "version": 3
   },
   "file_extension": ".py",
   "mimetype": "text/x-python",
   "name": "python",
   "nbconvert_exporter": "python",
   "pygments_lexer": "ipython3",
   "version": "3.9.19"
  }
 },
 "nbformat": 4,
 "nbformat_minor": 2
}
